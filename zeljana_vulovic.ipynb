{
 "cells": [
  {
   "cell_type": "markdown",
   "metadata": {},
   "source": [
    "# ZAVRŠNI ISPIT IZ VEROVATNOĆE I STATISTIKE\n",
    "\n",
    "### Student: Željana Vulović\n",
    "### Profesor: Miloš Stanković"
   ]
  },
  {
   "cell_type": "code",
   "execution_count": 270,
   "metadata": {},
   "outputs": [
    {
     "data": {
      "text/html": [
       "<div>\n",
       "<style scoped>\n",
       "    .dataframe tbody tr th:only-of-type {\n",
       "        vertical-align: middle;\n",
       "    }\n",
       "\n",
       "    .dataframe tbody tr th {\n",
       "        vertical-align: top;\n",
       "    }\n",
       "\n",
       "    .dataframe thead th {\n",
       "        text-align: right;\n",
       "    }\n",
       "</style>\n",
       "<table border=\"1\" class=\"dataframe\">\n",
       "  <thead>\n",
       "    <tr style=\"text-align: right;\">\n",
       "      <th></th>\n",
       "      <th>year</th>\n",
       "      <th>region</th>\n",
       "      <th>npg</th>\n",
       "      <th>birth_rate</th>\n",
       "      <th>death_rate</th>\n",
       "      <th>migratory_growth</th>\n",
       "      <th>population</th>\n",
       "    </tr>\n",
       "  </thead>\n",
       "  <tbody>\n",
       "    <tr>\n",
       "      <td>0</td>\n",
       "      <td>1990</td>\n",
       "      <td>Republic of Adygea</td>\n",
       "      <td>1.9</td>\n",
       "      <td>14.2</td>\n",
       "      <td>12.3</td>\n",
       "      <td>NaN</td>\n",
       "      <td>434788.0</td>\n",
       "    </tr>\n",
       "    <tr>\n",
       "      <td>1</td>\n",
       "      <td>1990</td>\n",
       "      <td>Altai Krai</td>\n",
       "      <td>1.8</td>\n",
       "      <td>12.9</td>\n",
       "      <td>11.1</td>\n",
       "      <td>NaN</td>\n",
       "      <td>2640419.0</td>\n",
       "    </tr>\n",
       "    <tr>\n",
       "      <td>2</td>\n",
       "      <td>1990</td>\n",
       "      <td>Amur Oblast</td>\n",
       "      <td>7.6</td>\n",
       "      <td>16.2</td>\n",
       "      <td>8.6</td>\n",
       "      <td>NaN</td>\n",
       "      <td>1055337.0</td>\n",
       "    </tr>\n",
       "    <tr>\n",
       "      <td>3</td>\n",
       "      <td>1990</td>\n",
       "      <td>Arkhangelsk Oblast</td>\n",
       "      <td>3.7</td>\n",
       "      <td>13.5</td>\n",
       "      <td>9.8</td>\n",
       "      <td>NaN</td>\n",
       "      <td>1523509.0</td>\n",
       "    </tr>\n",
       "    <tr>\n",
       "      <td>4</td>\n",
       "      <td>1990</td>\n",
       "      <td>Astrakhan Oblast</td>\n",
       "      <td>4.7</td>\n",
       "      <td>15.1</td>\n",
       "      <td>10.4</td>\n",
       "      <td>NaN</td>\n",
       "      <td>997516.0</td>\n",
       "    </tr>\n",
       "  </tbody>\n",
       "</table>\n",
       "</div>"
      ],
      "text/plain": [
       "   year              region  npg  birth_rate  death_rate  migratory_growth  \\\n",
       "0  1990  Republic of Adygea  1.9        14.2        12.3               NaN   \n",
       "1  1990          Altai Krai  1.8        12.9        11.1               NaN   \n",
       "2  1990         Amur Oblast  7.6        16.2         8.6               NaN   \n",
       "3  1990  Arkhangelsk Oblast  3.7        13.5         9.8               NaN   \n",
       "4  1990    Astrakhan Oblast  4.7        15.1        10.4               NaN   \n",
       "\n",
       "   population  \n",
       "0    434788.0  \n",
       "1   2640419.0  \n",
       "2   1055337.0  \n",
       "3   1523509.0  \n",
       "4    997516.0  "
      ]
     },
     "execution_count": 270,
     "metadata": {},
     "output_type": "execute_result"
    }
   ],
   "source": [
    "# učitavanje podataka iz tabele\n",
    "import pandas as pd\n",
    "import matplotlib.pyplot as plt\n",
    "import numpy as np\n",
    "\n",
    "plt.style.use('seaborn-talk')\n",
    "\n",
    "data_por = pd.read_csv(\"russian_demography.csv\")\n",
    "data_por.head() "
   ]
  },
  {
   "cell_type": "code",
   "execution_count": 271,
   "metadata": {},
   "outputs": [
    {
     "data": {
      "text/html": [
       "<div>\n",
       "<style scoped>\n",
       "    .dataframe tbody tr th:only-of-type {\n",
       "        vertical-align: middle;\n",
       "    }\n",
       "\n",
       "    .dataframe tbody tr th {\n",
       "        vertical-align: top;\n",
       "    }\n",
       "\n",
       "    .dataframe thead th {\n",
       "        text-align: right;\n",
       "    }\n",
       "</style>\n",
       "<table border=\"1\" class=\"dataframe\">\n",
       "  <thead>\n",
       "    <tr style=\"text-align: right;\">\n",
       "      <th></th>\n",
       "      <th>year</th>\n",
       "      <th>npg</th>\n",
       "      <th>birth_rate</th>\n",
       "      <th>population</th>\n",
       "    </tr>\n",
       "  </thead>\n",
       "  <tbody>\n",
       "    <tr>\n",
       "      <td>0</td>\n",
       "      <td>1990</td>\n",
       "      <td>1.9</td>\n",
       "      <td>14.2</td>\n",
       "      <td>434788.0</td>\n",
       "    </tr>\n",
       "    <tr>\n",
       "      <td>1</td>\n",
       "      <td>1990</td>\n",
       "      <td>1.8</td>\n",
       "      <td>12.9</td>\n",
       "      <td>2640419.0</td>\n",
       "    </tr>\n",
       "    <tr>\n",
       "      <td>2</td>\n",
       "      <td>1990</td>\n",
       "      <td>7.6</td>\n",
       "      <td>16.2</td>\n",
       "      <td>1055337.0</td>\n",
       "    </tr>\n",
       "    <tr>\n",
       "      <td>3</td>\n",
       "      <td>1990</td>\n",
       "      <td>3.7</td>\n",
       "      <td>13.5</td>\n",
       "      <td>1523509.0</td>\n",
       "    </tr>\n",
       "    <tr>\n",
       "      <td>4</td>\n",
       "      <td>1990</td>\n",
       "      <td>4.7</td>\n",
       "      <td>15.1</td>\n",
       "      <td>997516.0</td>\n",
       "    </tr>\n",
       "  </tbody>\n",
       "</table>\n",
       "</div>"
      ],
      "text/plain": [
       "   year  npg  birth_rate  population\n",
       "0  1990  1.9        14.2    434788.0\n",
       "1  1990  1.8        12.9   2640419.0\n",
       "2  1990  7.6        16.2   1055337.0\n",
       "3  1990  3.7        13.5   1523509.0\n",
       "4  1990  4.7        15.1    997516.0"
      ]
     },
     "execution_count": 271,
     "metadata": {},
     "output_type": "execute_result"
    }
   ],
   "source": [
    "atributes = ['year','npg','birth_rate', 'population']\n",
    "data_por = pd.read_csv(\"russian_demography.csv\",usecols=atributes)\n",
    "data_por.head() "
   ]
  },
  {
   "cell_type": "code",
   "execution_count": 272,
   "metadata": {},
   "outputs": [
    {
     "data": {
      "text/plain": [
       "-2.8     27\n",
       "-2.4     26\n",
       "-5.5     25\n",
       "-4.3     24\n",
       " 0.3     24\n",
       "         ..\n",
       " 16.1     1\n",
       " 16.3     1\n",
       " 13.8     1\n",
       " 13.3     1\n",
       " 11.8     1\n",
       "Name: npg, Length: 307, dtype: int64"
      ]
     },
     "execution_count": 272,
     "metadata": {},
     "output_type": "execute_result"
    }
   ],
   "source": [
    "data_temp = data_por[\"npg\"].value_counts()# value_counts() funkcija, u silaznom redosledu \n",
    "                                               #prvi element je element koji se najčešće javlja\n",
    "                                            \n",
    "data_temp "
   ]
  },
  {
   "cell_type": "code",
   "execution_count": 273,
   "metadata": {},
   "outputs": [
    {
     "data": {
      "image/png": "[encoded data removed]",
      "text/plain": [
       "<Figure size 748.8x514.8 with 1 Axes>"
      ]
     },
     "metadata": {
      "needs_background": "light"
     },
     "output_type": "display_data"
    }
   ],
   "source": [
    "# Raspodela \n",
    "P_S = pd.DataFrame(data_temp/data_temp.sum())\n",
    "P_S.columns=[\"Verovatnoća\"]\n",
    "P_S.plot.bar()\n",
    "plt.show() "
   ]
  },
  {
   "cell_type": "code",
   "execution_count": 274,
   "metadata": {},
   "outputs": [
    {
     "name": "stdout",
     "output_type": "stream",
     "text": [
      "Visoke npg ocene\n"
     ]
    },
    {
     "data": {
      "text/plain": [
       "206"
      ]
     },
     "execution_count": 274,
     "metadata": {},
     "output_type": "execute_result"
    }
   ],
   "source": [
    "# Visoke npg ocene\n",
    "data_temp_npg_high = (data_por[\"npg\"]>6).value_counts()\n",
    "high_npg_scores = data_temp_npg_high[True]\n",
    "print(\"Visoke npg ocene\")\n",
    "high_npg_scores"
   ]
  },
  {
   "cell_type": "code",
   "execution_count": 275,
   "metadata": {},
   "outputs": [
    {
     "name": "stdout",
     "output_type": "stream",
     "text": [
      "Srednje npg ocene\n"
     ]
    },
    {
     "data": {
      "text/plain": [
       "108"
      ]
     },
     "execution_count": 275,
     "metadata": {},
     "output_type": "execute_result"
    }
   ],
   "source": [
    "# Srednje npg ocene\n",
    "data_temp_npg_mid = ((data_por[\"npg\"]>=6) & (data_por[\"npg\"]<=10)).value_counts()\n",
    "mid_npg_scores = data_temp_npg_mid[True]\n",
    "print(\"Srednje npg ocene\")\n",
    "mid_npg_scores"
   ]
  },
  {
   "cell_type": "code",
   "execution_count": 276,
   "metadata": {},
   "outputs": [
    {
     "name": "stdout",
     "output_type": "stream",
     "text": [
      "Niske npg ocene\n"
     ]
    },
    {
     "data": {
      "text/plain": [
       "2217"
      ]
     },
     "execution_count": 276,
     "metadata": {},
     "output_type": "execute_result"
    }
   ],
   "source": [
    "# Niske npg ocene\n",
    "data_temp_npg_low = ((data_por[\"npg\"]<10)).value_counts()\n",
    "low_npg_scores = data_temp_npg_low[True]\n",
    "print(\"Niske npg ocene\")\n",
    "low_npg_scores"
   ]
  },
  {
   "cell_type": "code",
   "execution_count": 277,
   "metadata": {},
   "outputs": [
    {
     "name": "stdout",
     "output_type": "stream",
     "text": [
      "Visoke year ocene\n"
     ]
    },
    {
     "data": {
      "text/plain": [
       "2295"
      ]
     },
     "execution_count": 277,
     "metadata": {},
     "output_type": "execute_result"
    }
   ],
   "source": [
    "# Visoke year ocene\n",
    "data_temp_year_high = (data_por[\"year\"]>1990).value_counts()\n",
    "high_year_scores = data_temp_year_high[True]\n",
    "print(\"Visoke year ocene\")\n",
    "high_year_scores"
   ]
  },
  {
   "cell_type": "code",
   "execution_count": 278,
   "metadata": {},
   "outputs": [
    {
     "name": "stdout",
     "output_type": "stream",
     "text": [
      "Srednje year ocene\n"
     ]
    },
    {
     "data": {
      "text/plain": [
       "2380"
      ]
     },
     "execution_count": 278,
     "metadata": {},
     "output_type": "execute_result"
    }
   ],
   "source": [
    "# Srednje year ocene\n",
    "data_temp_year_mid = ((data_por[\"year\"]>=1990) & (data_por[\"year\"]<=2020)).value_counts()\n",
    "mid_year_scores = data_temp_year_mid[True]\n",
    "print(\"Srednje year ocene\")\n",
    "mid_year_scores"
   ]
  },
  {
   "cell_type": "code",
   "execution_count": 279,
   "metadata": {},
   "outputs": [
    {
     "name": "stdout",
     "output_type": "stream",
     "text": [
      "Niske year ocene\n"
     ]
    },
    {
     "data": {
      "text/plain": [
       "2380"
      ]
     },
     "execution_count": 279,
     "metadata": {},
     "output_type": "execute_result"
    }
   ],
   "source": [
    "# Niske year ocene\n",
    "data_temp_year_low = ((data_por[\"year\"]<2020)).value_counts()\n",
    "low_year_scores = data_temp_year_low[True]\n",
    "print(\"Niske year ocene\")\n",
    "low_year_scores"
   ]
  },
  {
   "cell_type": "code",
   "execution_count": 280,
   "metadata": {},
   "outputs": [
    {
     "name": "stdout",
     "output_type": "stream",
     "text": [
      "Visoke birth_rate ocene\n"
     ]
    },
    {
     "data": {
      "text/plain": [
       "2317"
      ]
     },
     "execution_count": 280,
     "metadata": {},
     "output_type": "execute_result"
    }
   ],
   "source": [
    "#Visoke birth_rate ocene\n",
    "data_temp_birth_rate_high = (data_por[\"birth_rate\"]>0.1).value_counts()\n",
    "high_birth_rate_scores = data_temp_birth_rate_high[True]\n",
    "print(\"Visoke birth_rate ocene\")\n",
    "high_birth_rate_scores"
   ]
  },
  {
   "cell_type": "code",
   "execution_count": 281,
   "metadata": {},
   "outputs": [
    {
     "name": "stdout",
     "output_type": "stream",
     "text": [
      "Srednje birth_rate ocene\n"
     ]
    },
    {
     "data": {
      "text/plain": [
       "2302"
      ]
     },
     "execution_count": 281,
     "metadata": {},
     "output_type": "execute_result"
    }
   ],
   "source": [
    "#Srednje birth_rate ocene\n",
    "data_temp_birth_rate_mid = ((data_por[\"birth_rate\"]>=0.1) & (data_por[\"birth_rate\"]<=25.5)).value_counts()\n",
    "mid_birth_rate_scores = data_temp_birth_rate_mid[True]\n",
    "print(\"Srednje birth_rate ocene\")\n",
    "mid_birth_rate_scores"
   ]
  },
  {
   "cell_type": "code",
   "execution_count": 282,
   "metadata": {},
   "outputs": [
    {
     "name": "stdout",
     "output_type": "stream",
     "text": [
      "Niske birth_rate ocene\n"
     ]
    },
    {
     "data": {
      "text/plain": [
       "2302"
      ]
     },
     "execution_count": 282,
     "metadata": {},
     "output_type": "execute_result"
    }
   ],
   "source": [
    "#Niske birth_rate ocene\n",
    "data_temp_birth_rate_low = ((data_por[\"birth_rate\"]<25.5)).value_counts()\n",
    "low_birth_rate_scores = data_temp_birth_rate_low[True]\n",
    "print(\"Niske birth_rate ocene\")\n",
    "low_birth_rate_scores"
   ]
  },
  {
   "cell_type": "code",
   "execution_count": 283,
   "metadata": {},
   "outputs": [
    {
     "data": {
      "image/png": "[encoded data removed]",
      "text/plain": [
       "<Figure size 720x432 with 1 Axes>"
      ]
     },
     "metadata": {
      "needs_background": "light"
     },
     "output_type": "display_data"
    },
    {
     "data": {
      "image/png": "[encoded data removed]",
      "text/plain": [
       "<Figure size 720x432 with 1 Axes>"
      ]
     },
     "metadata": {
      "needs_background": "light"
     },
     "output_type": "display_data"
    },
    {
     "data": {
      "image/png": "[encoded data removed]",
      "text/plain": [
       "<Figure size 720x432 with 1 Axes>"
      ]
     },
     "metadata": {
      "needs_background": "light"
     },
     "output_type": "display_data"
    }
   ],
   "source": [
    "P_Scores_npg = pd.DataFrame([low_npg_scores, mid_npg_scores, high_npg_scores]/(high_npg_scores+mid_npg_scores+low_npg_scores))\n",
    "P_Scores_npg.index = [\"Niske\",\"Srednje\",\"Visoke\"]\n",
    "P_Scores_npg.columns = [\"Verovatnoća\"]\n",
    "\n",
    "\n",
    "P_Scores_year = pd.DataFrame([low_year_scores, mid_year_scores, high_year_scores]/(high_year_scores+mid_year_scores+low_year_scores))\n",
    "P_Scores_year.index = [\"Niske\",\"Srednje\",\"Visoke\"]\n",
    "P_Scores_year.columns = [\"Verovatnoća\"]\n",
    "\n",
    "\n",
    "P_Scores_birth_rate = pd.DataFrame([low_birth_rate_scores, mid_birth_rate_scores, high_birth_rate_scores]/(high_birth_rate_scores+mid_birth_rate_scores+low_birth_rate_scores))\n",
    "P_Scores_birth_rate.index = [\"Niske\",\"Srednje\",\"Visoke\"]\n",
    "P_Scores_birth_rate.columns = [\"Verovatnoća\"]\n",
    "\n",
    "\n",
    "# Crtanje bar grafika\n",
    "P_Scores_npg.plot.bar(figsize=(10,6),fontsize=16)\n",
    "plt.xlabel(\"Ocena\",fontsize=18)\n",
    "plt.ylabel(\"Verovatnoća\",fontsize=18)\n",
    "plt.title('npg')\n",
    "plt.show()\n",
    "\n",
    "# Crtanje bar grafika\n",
    "P_Scores_year.plot.bar(figsize=(10,6),fontsize=16)\n",
    "plt.xlabel(\"Ocena\",fontsize=18)\n",
    "plt.ylabel(\"Verovatnoća\",fontsize=18)\n",
    "plt.title('year')\n",
    "plt.show()\n",
    "\n",
    "# Crtanje bar grafika\n",
    "P_Scores_birth_rate.plot.bar(figsize=(10,6),fontsize=16)\n",
    "plt.xlabel(\"Ocena\",fontsize=18)\n",
    "plt.ylabel(\"Verovatnoća\",fontsize=18)\n",
    "plt.title('birth_rate')\n",
    "plt.show()"
   ]
  },
  {
   "cell_type": "code",
   "execution_count": 284,
   "metadata": {},
   "outputs": [
    {
     "data": {
      "text/plain": [
       "10.9    53\n",
       "10.4    46\n",
       "9.1     43\n",
       "10.7    42\n",
       "10.8    40\n",
       "        ..\n",
       "20.0     1\n",
       "16.9     1\n",
       "18.0     1\n",
       "20.1     1\n",
       "18.5     1\n",
       "Name: birth_rate, Length: 131, dtype: int64"
      ]
     },
     "execution_count": 284,
     "metadata": {},
     "output_type": "execute_result"
    }
   ],
   "source": [
    "data_temp = data_por.loc[data_por[\"npg\"]<10,\"birth_rate\"]\n",
    "data_temp=data_temp.value_counts()\n",
    "data_temp"
   ]
  },
  {
   "cell_type": "code",
   "execution_count": 285,
   "metadata": {},
   "outputs": [
    {
     "data": {
      "text/plain": [
       "10.9    53\n",
       "10.4    46\n",
       "9.1     43\n",
       "10.7    42\n",
       "10.8    40\n",
       "        ..\n",
       "24.4     1\n",
       "29.9     1\n",
       "26.7     1\n",
       "21.6     1\n",
       "22.6     1\n",
       "Name: birth_rate, Length: 175, dtype: int64"
      ]
     },
     "execution_count": 285,
     "metadata": {},
     "output_type": "execute_result"
    }
   ],
   "source": [
    "data_temp1 = data_por[\"birth_rate\"].value_counts()\n",
    "data_temp1"
   ]
  },
  {
   "cell_type": "code",
   "execution_count": 286,
   "metadata": {},
   "outputs": [
    {
     "data": {
      "text/html": [
       "<div>\n",
       "<style scoped>\n",
       "    .dataframe tbody tr th:only-of-type {\n",
       "        vertical-align: middle;\n",
       "    }\n",
       "\n",
       "    .dataframe tbody tr th {\n",
       "        vertical-align: top;\n",
       "    }\n",
       "\n",
       "    .dataframe thead th {\n",
       "        text-align: right;\n",
       "    }\n",
       "</style>\n",
       "<table border=\"1\" class=\"dataframe\">\n",
       "  <thead>\n",
       "    <tr style=\"text-align: right;\">\n",
       "      <th></th>\n",
       "      <th>Uslovna verovatnoća</th>\n",
       "    </tr>\n",
       "  </thead>\n",
       "  <tbody>\n",
       "    <tr>\n",
       "      <td>6.2</td>\n",
       "      <td>1.0</td>\n",
       "    </tr>\n",
       "    <tr>\n",
       "      <td>6.4</td>\n",
       "      <td>1.0</td>\n",
       "    </tr>\n",
       "    <tr>\n",
       "      <td>6.5</td>\n",
       "      <td>1.0</td>\n",
       "    </tr>\n",
       "    <tr>\n",
       "      <td>6.6</td>\n",
       "      <td>1.0</td>\n",
       "    </tr>\n",
       "    <tr>\n",
       "      <td>6.7</td>\n",
       "      <td>1.0</td>\n",
       "    </tr>\n",
       "  </tbody>\n",
       "</table>\n",
       "</div>"
      ],
      "text/plain": [
       "     Uslovna verovatnoća\n",
       "6.2                  1.0\n",
       "6.4                  1.0\n",
       "6.5                  1.0\n",
       "6.6                  1.0\n",
       "6.7                  1.0"
      ]
     },
     "execution_count": 286,
     "metadata": {},
     "output_type": "execute_result"
    }
   ],
   "source": [
    "#Uslovna verovatnoća niske npg ocene sa šansom za birth_rate\n",
    "\n",
    "P_Uslovna_Verovatnoca = pd.DataFrame(data_temp/data_temp1)\n",
    "P_Uslovna_Verovatnoca.columns = [\"Uslovna verovatnoća\"]\n",
    "P_Uslovna_Verovatnoca.head()"
   ]
  },
  {
   "cell_type": "code",
   "execution_count": 287,
   "metadata": {},
   "outputs": [
    {
     "data": {
      "image/png": "[encoded data removed]",
      "text/plain": [
       "<Figure size 720x432 with 1 Axes>"
      ]
     },
     "metadata": {
      "needs_background": "light"
     },
     "output_type": "display_data"
    }
   ],
   "source": [
    "##Bar grafik uslovne verovatnoće\n",
    "P_Uslovna_Verovatnoca.plot.bar(figsize=(10,6),fontsize=8)\n",
    "plt.xlabel(\"geo\",fontsize=18)\n",
    "plt.ylabel(\"Uslovna verovatnoća niske npg ocene i šanse za birth_rate\",fontsize=18)\n",
    "plt.show()"
   ]
  },
  {
   "cell_type": "code",
   "execution_count": 288,
   "metadata": {},
   "outputs": [
    {
     "data": {
      "image/png": "[encoded data removed]",
      "text/plain": [
       "<Figure size 748.8x514.8 with 1 Axes>"
      ]
     },
     "metadata": {
      "needs_background": "light"
     },
     "output_type": "display_data"
    }
   ],
   "source": [
    "# npg histogram\n",
    "import pandas as pd\n",
    "\n",
    "atributes = ['npg']\n",
    "df = pd.read_csv(\"russian_demography.csv\",usecols=atributes)\n",
    "\n",
    "hist = df.hist(density=True,bins=50) \n",
    "plt.show()"
   ]
  },
  {
   "cell_type": "code",
   "execution_count": 289,
   "metadata": {},
   "outputs": [
    {
     "data": {
      "text/plain": [
       "KstestResult(statistic=0.06826260174158238, pvalue=7.843234733578788e-10)"
      ]
     },
     "execution_count": 289,
     "metadata": {},
     "output_type": "execute_result"
    }
   ],
   "source": [
    "#Uslov za normalnu raspodelu\n",
    "from scipy import stats\n",
    "\n",
    "stats.kstest(df['npg'].dropna().values.T, cdf='norm', args=(df['npg'].dropna().values.mean(), df['npg'].dropna().values.std()))"
   ]
  },
  {
   "cell_type": "code",
   "execution_count": 290,
   "metadata": {},
   "outputs": [
    {
     "data": {
      "image/png": "[encoded data removed]",
      "text/plain": [
       "<Figure size 748.8x514.8 with 1 Axes>"
      ]
     },
     "metadata": {
      "needs_background": "light"
     },
     "output_type": "display_data"
    }
   ],
   "source": [
    "#Gausova kriva\n",
    "from scipy.stats import norm\n",
    "\n",
    "hist = df.hist(density=True,bins=50)\n",
    "\n",
    "step=0.3\n",
    "x = np.arange(-20, 35, step)\n",
    "m=1\n",
    "sig=6\n",
    "P_norm = norm.pdf(x, m, sig)\n",
    "\n",
    "plt.plot(x, P_norm, 'r', linewidth=3.0)\n",
    "plt.show()"
   ]
  },
  {
   "cell_type": "code",
   "execution_count": 291,
   "metadata": {},
   "outputs": [
    {
     "data": {
      "image/png": "[encoded data removed]",
      "text/plain": [
       "<Figure size 748.8x514.8 with 1 Axes>"
      ]
     },
     "metadata": {
      "needs_background": "light"
     },
     "output_type": "display_data"
    }
   ],
   "source": [
    "#Mešovita kriva\n",
    "hist = df.hist(density=True,bins=50)\n",
    "x = np.arange(-15, 35, step)\n",
    "m1=10\n",
    "sig1=5.6\n",
    "m2=40\n",
    "sig2=7.7\n",
    "\n",
    "P_norm_mix2 = np.array(0.5*norm.pdf(x, m1, sig1)+0.5*norm.pdf(x, m2, sig2))\n",
    "plt.plot(x, P_norm_mix2, 'r', linewidth=3.0)\n",
    "plt.show()"
   ]
  },
  {
   "cell_type": "code",
   "execution_count": 292,
   "metadata": {},
   "outputs": [
    {
     "data": {
      "image/png": "[encoded data removed]",
      "text/plain": [
       "<Figure size 748.8x514.8 with 1 Axes>"
      ]
     },
     "metadata": {
      "needs_background": "light"
     },
     "output_type": "display_data"
    }
   ],
   "source": [
    "# birth_rate histogram\n",
    "atributes = ['birth_rate']\n",
    "df = pd.read_csv(\"russian_demography.csv\",usecols=atributes)\n",
    "\n",
    "hist = df.hist(density=True,bins=29) \n",
    "plt.show()"
   ]
  },
  {
   "cell_type": "code",
   "execution_count": 293,
   "metadata": {},
   "outputs": [
    {
     "data": {
      "text/plain": [
       "KstestResult(statistic=0.09527824674024532, pvalue=9.301259463524953e-19)"
      ]
     },
     "execution_count": 293,
     "metadata": {},
     "output_type": "execute_result"
    }
   ],
   "source": [
    "# Uslov za normalnu raspodelu\n",
    "stats.kstest(df['birth_rate'].dropna().values.T, cdf='norm', args=(df['birth_rate'].dropna().values.mean(), df['birth_rate'].dropna().values.std()))"
   ]
  },
  {
   "cell_type": "code",
   "execution_count": 294,
   "metadata": {},
   "outputs": [
    {
     "data": {
      "image/png": "[encoded data removed]",
      "text/plain": [
       "<Figure size 748.8x514.8 with 1 Axes>"
      ]
     },
     "metadata": {
      "needs_background": "light"
     },
     "output_type": "display_data"
    }
   ],
   "source": [
    "# Gausova kriva\n",
    "from scipy.stats import norm\n",
    "\n",
    "hist = df.hist(density=True,bins=29)\n",
    "\n",
    "step=0.3\n",
    "x = np.arange(-20, 40, step)\n",
    "m=10\n",
    "sig=5.5\n",
    "P_norm = norm.pdf(x, m, sig)\n",
    "\n",
    "plt.plot(x, P_norm, 'r', linewidth=3.0)\n",
    "plt.show()"
   ]
  },
  {
   "cell_type": "code",
   "execution_count": 295,
   "metadata": {},
   "outputs": [
    {
     "data": {
      "image/png": "[encoded data removed]",
      "text/plain": [
       "<Figure size 748.8x514.8 with 1 Axes>"
      ]
     },
     "metadata": {
      "needs_background": "light"
     },
     "output_type": "display_data"
    }
   ],
   "source": [
    "#mešovita kriva\n",
    "hist = df.hist(density=True,bins=29)\n",
    "x = np.arange(-20, 40, step)\n",
    "m1=10\n",
    "sig1=3.3\n",
    "m2=25\n",
    "sig2=3\n",
    "\n",
    "P_norm_mix2 = np.array(0.5*norm.pdf(x, m1, sig1)+0.5*norm.pdf(x, m2, sig2))\n",
    "plt.plot(x, P_norm_mix2, 'r', linewidth=3.0)\n",
    "plt.show()"
   ]
  },
  {
   "cell_type": "code",
   "execution_count": 296,
   "metadata": {},
   "outputs": [
    {
     "data": {
      "image/png": "[encoded data removed]",
      "text/plain": [
       "<Figure size 748.8x514.8 with 1 Axes>"
      ]
     },
     "metadata": {
      "needs_background": "light"
     },
     "output_type": "display_data"
    }
   ],
   "source": [
    "# death_rate histogram\n",
    "atributes = ['death_rate']\n",
    "df = pd.read_csv(\"russian_demography.csv\",usecols=atributes)\n",
    "\n",
    "hist = df.hist(density=True,bins=20) \n",
    "plt.show()"
   ]
  },
  {
   "cell_type": "code",
   "execution_count": 297,
   "metadata": {},
   "outputs": [
    {
     "data": {
      "text/plain": [
       "KstestResult(statistic=0.07072644971711889, pvalue=1.6288292499374107e-10)"
      ]
     },
     "execution_count": 297,
     "metadata": {},
     "output_type": "execute_result"
    }
   ],
   "source": [
    "# Uslov za normalnu raspodelu\n",
    "stats.kstest(df['death_rate'].dropna().values.T, cdf='norm', args=(df['death_rate'].dropna().values.mean(), df['death_rate'].dropna().values.std()))"
   ]
  },
  {
   "cell_type": "code",
   "execution_count": 298,
   "metadata": {},
   "outputs": [
    {
     "data": {
      "image/png": "[encoded data removed]",
      "text/plain": [
       "<Figure size 748.8x514.8 with 1 Axes>"
      ]
     },
     "metadata": {
      "needs_background": "light"
     },
     "output_type": "display_data"
    }
   ],
   "source": [
    "# Gausova kriva\n",
    "from scipy.stats import norm\n",
    "\n",
    "hist = df.hist(density=True,bins=29)\n",
    "\n",
    "step=0.3\n",
    "x = np.arange(-20, 40, step)\n",
    "m=10\n",
    "sig=5.5\n",
    "P_norm = norm.pdf(x, m, sig)\n",
    "\n",
    "plt.plot(x, P_norm, 'r', linewidth=3.0)\n",
    "plt.show()"
   ]
  },
  {
   "cell_type": "code",
   "execution_count": 299,
   "metadata": {},
   "outputs": [
    {
     "data": {
      "image/png": "[encoded data removed]",
      "text/plain": [
       "<Figure size 748.8x514.8 with 1 Axes>"
      ]
     },
     "metadata": {
      "needs_background": "light"
     },
     "output_type": "display_data"
    }
   ],
   "source": [
    "#mešovita kriva\n",
    "hist = df.hist(density=True,bins=29)\n",
    "x = np.arange(-20, 40, step)\n",
    "m1=10\n",
    "sig1=3.3\n",
    "m2=25\n",
    "sig2=3\n",
    "\n",
    "P_norm_mix2 = np.array(0.5*norm.pdf(x, m1, sig1)+0.5*norm.pdf(x, m2, sig2))\n",
    "plt.plot(x, P_norm_mix2, 'r', linewidth=3.0)\n",
    "plt.show()"
   ]
  },
  {
   "cell_type": "code",
   "execution_count": 300,
   "metadata": {},
   "outputs": [
    {
     "data": {
      "text/html": [
       "<div>\n",
       "<style scoped>\n",
       "    .dataframe tbody tr th:only-of-type {\n",
       "        vertical-align: middle;\n",
       "    }\n",
       "\n",
       "    .dataframe tbody tr th {\n",
       "        vertical-align: top;\n",
       "    }\n",
       "\n",
       "    .dataframe thead th {\n",
       "        text-align: right;\n",
       "    }\n",
       "</style>\n",
       "<table border=\"1\" class=\"dataframe\">\n",
       "  <thead>\n",
       "    <tr style=\"text-align: right;\">\n",
       "      <th></th>\n",
       "      <th>year</th>\n",
       "      <th>npg</th>\n",
       "      <th>birth_rate</th>\n",
       "      <th>death_rate</th>\n",
       "    </tr>\n",
       "  </thead>\n",
       "  <tbody>\n",
       "    <tr>\n",
       "      <td>0</td>\n",
       "      <td>1990</td>\n",
       "      <td>1.9</td>\n",
       "      <td>14.2</td>\n",
       "      <td>12.3</td>\n",
       "    </tr>\n",
       "    <tr>\n",
       "      <td>1</td>\n",
       "      <td>1990</td>\n",
       "      <td>1.8</td>\n",
       "      <td>12.9</td>\n",
       "      <td>11.1</td>\n",
       "    </tr>\n",
       "    <tr>\n",
       "      <td>2</td>\n",
       "      <td>1990</td>\n",
       "      <td>7.6</td>\n",
       "      <td>16.2</td>\n",
       "      <td>8.6</td>\n",
       "    </tr>\n",
       "    <tr>\n",
       "      <td>3</td>\n",
       "      <td>1990</td>\n",
       "      <td>3.7</td>\n",
       "      <td>13.5</td>\n",
       "      <td>9.8</td>\n",
       "    </tr>\n",
       "    <tr>\n",
       "      <td>4</td>\n",
       "      <td>1990</td>\n",
       "      <td>4.7</td>\n",
       "      <td>15.1</td>\n",
       "      <td>10.4</td>\n",
       "    </tr>\n",
       "  </tbody>\n",
       "</table>\n",
       "</div>"
      ],
      "text/plain": [
       "   year  npg  birth_rate  death_rate\n",
       "0  1990  1.9        14.2        12.3\n",
       "1  1990  1.8        12.9        11.1\n",
       "2  1990  7.6        16.2         8.6\n",
       "3  1990  3.7        13.5         9.8\n",
       "4  1990  4.7        15.1        10.4"
      ]
     },
     "execution_count": 300,
     "metadata": {},
     "output_type": "execute_result"
    }
   ],
   "source": [
    "# učitavanje podataka\n",
    "import pandas as pd\n",
    "import matplotlib.pyplot as plt\n",
    "import numpy as np\n",
    "\n",
    "from scipy import stats\n",
    "\n",
    "plt.style.use('seaborn-talk')\n",
    "atributes = ['npg','year','birth_rate', 'death_rate']\n",
    "data_por = pd.read_csv(\"russian_demography.csv\",usecols=atributes)\n",
    "data_por.head()"
   ]
  },
  {
   "cell_type": "code",
   "execution_count": 301,
   "metadata": {},
   "outputs": [
    {
     "data": {
      "text/html": [
       "<div>\n",
       "<style scoped>\n",
       "    .dataframe tbody tr th:only-of-type {\n",
       "        vertical-align: middle;\n",
       "    }\n",
       "\n",
       "    .dataframe tbody tr th {\n",
       "        vertical-align: top;\n",
       "    }\n",
       "\n",
       "    .dataframe thead th {\n",
       "        text-align: right;\n",
       "    }\n",
       "</style>\n",
       "<table border=\"1\" class=\"dataframe\">\n",
       "  <thead>\n",
       "    <tr style=\"text-align: right;\">\n",
       "      <th></th>\n",
       "      <th>year</th>\n",
       "      <th>npg</th>\n",
       "      <th>birth_rate</th>\n",
       "      <th>death_rate</th>\n",
       "    </tr>\n",
       "  </thead>\n",
       "  <tbody>\n",
       "    <tr>\n",
       "      <td>count</td>\n",
       "      <td>2380.000000</td>\n",
       "      <td>2317.000000</td>\n",
       "      <td>2317.000000</td>\n",
       "      <td>2315.000000</td>\n",
       "    </tr>\n",
       "    <tr>\n",
       "      <td>mean</td>\n",
       "      <td>2003.500000</td>\n",
       "      <td>-2.344022</td>\n",
       "      <td>11.549245</td>\n",
       "      <td>13.901382</td>\n",
       "    </tr>\n",
       "    <tr>\n",
       "      <td>std</td>\n",
       "      <td>8.079445</td>\n",
       "      <td>6.064389</td>\n",
       "      <td>3.233035</td>\n",
       "      <td>3.499475</td>\n",
       "    </tr>\n",
       "    <tr>\n",
       "      <td>min</td>\n",
       "      <td>1990.000000</td>\n",
       "      <td>-15.900000</td>\n",
       "      <td>6.200000</td>\n",
       "      <td>3.200000</td>\n",
       "    </tr>\n",
       "    <tr>\n",
       "      <td>25%</td>\n",
       "      <td>1996.750000</td>\n",
       "      <td>-6.200000</td>\n",
       "      <td>9.300000</td>\n",
       "      <td>12.100000</td>\n",
       "    </tr>\n",
       "    <tr>\n",
       "      <td>50%</td>\n",
       "      <td>2003.500000</td>\n",
       "      <td>-3.100000</td>\n",
       "      <td>11.000000</td>\n",
       "      <td>14.100000</td>\n",
       "    </tr>\n",
       "    <tr>\n",
       "      <td>75%</td>\n",
       "      <td>2010.250000</td>\n",
       "      <td>0.700000</td>\n",
       "      <td>13.000000</td>\n",
       "      <td>16.100000</td>\n",
       "    </tr>\n",
       "    <tr>\n",
       "      <td>max</td>\n",
       "      <td>2017.000000</td>\n",
       "      <td>24.800000</td>\n",
       "      <td>29.900000</td>\n",
       "      <td>24.900000</td>\n",
       "    </tr>\n",
       "  </tbody>\n",
       "</table>\n",
       "</div>"
      ],
      "text/plain": [
       "              year          npg   birth_rate   death_rate\n",
       "count  2380.000000  2317.000000  2317.000000  2315.000000\n",
       "mean   2003.500000    -2.344022    11.549245    13.901382\n",
       "std       8.079445     6.064389     3.233035     3.499475\n",
       "min    1990.000000   -15.900000     6.200000     3.200000\n",
       "25%    1996.750000    -6.200000     9.300000    12.100000\n",
       "50%    2003.500000    -3.100000    11.000000    14.100000\n",
       "75%    2010.250000     0.700000    13.000000    16.100000\n",
       "max    2017.000000    24.800000    29.900000    24.900000"
      ]
     },
     "execution_count": 301,
     "metadata": {},
     "output_type": "execute_result"
    }
   ],
   "source": [
    "data_por.describe()# describe koristi se za pregled nekih osnovnih statističkih detalja poput count, mean, std itd."
   ]
  },
  {
   "cell_type": "code",
   "execution_count": 302,
   "metadata": {},
   "outputs": [
    {
     "data": {
      "text/plain": [
       "year          1995.0\n",
       "npg             -7.1\n",
       "birth_rate       9.0\n",
       "death_rate      11.4\n",
       "Name: 0.2, dtype: float64"
      ]
     },
     "execution_count": 302,
     "metadata": {},
     "output_type": "execute_result"
    }
   ],
   "source": [
    "# Kvantil reda 0.2\n",
    "\n",
    "data_por.quantile(0.2)"
   ]
  },
  {
   "cell_type": "code",
   "execution_count": 303,
   "metadata": {},
   "outputs": [
    {
     "data": {
      "text/plain": [
       "0.10976602239814015"
      ]
     },
     "execution_count": 303,
     "metadata": {},
     "output_type": "execute_result"
    }
   ],
   "source": [
    "data_por.cov()['npg']['year']/(data_por.std()['npg']*data_por.std()['year']) #Koeficijent korelacije"
   ]
  },
  {
   "cell_type": "code",
   "execution_count": 304,
   "metadata": {},
   "outputs": [
    {
     "data": {
      "text/plain": [
       "0.8914926214816432"
      ]
     },
     "execution_count": 304,
     "metadata": {},
     "output_type": "execute_result"
    }
   ],
   "source": [
    "data_por.cov()['npg']['birth_rate']/(data_por.std()['npg']*data_por.std()['birth_rate'])"
   ]
  },
  {
   "cell_type": "code",
   "execution_count": 305,
   "metadata": {},
   "outputs": [
    {
     "data": {
      "text/plain": [
       "0.2670125691795392"
      ]
     },
     "execution_count": 305,
     "metadata": {},
     "output_type": "execute_result"
    }
   ],
   "source": [
    "data_por.cov()['year']['birth_rate']/(data_por.std()['year']*data_por.std()['birth_rate'])"
   ]
  },
  {
   "cell_type": "code",
   "execution_count": 306,
   "metadata": {},
   "outputs": [
    {
     "name": "stdout",
     "output_type": "stream",
     "text": [
      "Vrednost estimacije: -2.344022442813979\n"
     ]
    },
    {
     "data": {
      "text/plain": [
       "(-2.5876613740820678, -2.1003835115458904)"
      ]
     },
     "execution_count": 306,
     "metadata": {},
     "output_type": "execute_result"
    }
   ],
   "source": [
    "alpha=0.05\n",
    "\n",
    "print(\"Vrednost estimacije: \" + str(data_por.mean()['npg'])) \n",
    "\n",
    "red_kvantila=1-alpha/2\n",
    "Kvantil = stats.norm.ppf(red_kvantila)\n",
    "                  \n",
    "margin = Kvantil * (data_por.std()['npg']/len(data_por)**0.5)\n",
    "\n",
    "interval_poverenja_MO = (data_por.mean()['npg'] - margin, data_por.mean()['npg'] + margin)\n",
    "interval_poverenja_MO"
   ]
  },
  {
   "cell_type": "code",
   "execution_count": 307,
   "metadata": {},
   "outputs": [
    {
     "name": "stdout",
     "output_type": "stream",
     "text": [
      "Vrednost estimacije: 2003.5\n"
     ]
    },
    {
     "data": {
      "text/plain": [
       "(2003.1754055214994, 2003.8245944785006)"
      ]
     },
     "execution_count": 307,
     "metadata": {},
     "output_type": "execute_result"
    }
   ],
   "source": [
    "alpha=0.05\n",
    "\n",
    "print(\"Vrednost estimacije: \" + str(data_por.mean()['year'])) \n",
    "\n",
    "red_kvantila=1-alpha/2\n",
    "Kvantil = stats.norm.ppf(red_kvantila)\n",
    "                  \n",
    "margin = Kvantil * (data_por.std()['year']/len(data_por)**0.5)\n",
    "\n",
    "interval_poverenja_MO = (data_por.mean()['year'] - margin, data_por.mean()['year'] + margin)\n",
    "interval_poverenja_MO"
   ]
  },
  {
   "cell_type": "code",
   "execution_count": 308,
   "metadata": {},
   "outputs": [
    {
     "name": "stdout",
     "output_type": "stream",
     "text": [
      "Vrednost estimacije: 11.549244712990912\n"
     ]
    },
    {
     "data": {
      "text/plain": [
       "(11.419356401848404, 11.67913302413342)"
      ]
     },
     "execution_count": 308,
     "metadata": {},
     "output_type": "execute_result"
    }
   ],
   "source": [
    "alpha=0.05\n",
    "\n",
    "print(\"Vrednost estimacije: \" + str(data_por.mean()['birth_rate']))\n",
    "\n",
    "red_kvantila=1-alpha/2\n",
    "Kvantil = stats.norm.ppf(red_kvantila)\n",
    "                  \n",
    "margin = Kvantil * (data_por.std()['birth_rate']/len(data_por)**0.5)\n",
    "\n",
    "interval_poverenja_MO = (data_por.mean()['birth_rate'] - margin, data_por.mean()['birth_rate'] + margin)\n",
    "interval_poverenja_MO"
   ]
  },
  {
   "cell_type": "code",
   "execution_count": 314,
   "metadata": {},
   "outputs": [
    {
     "data": {
      "text/html": [
       "<div>\n",
       "<style scoped>\n",
       "    .dataframe tbody tr th:only-of-type {\n",
       "        vertical-align: middle;\n",
       "    }\n",
       "\n",
       "    .dataframe tbody tr th {\n",
       "        vertical-align: top;\n",
       "    }\n",
       "\n",
       "    .dataframe thead th {\n",
       "        text-align: right;\n",
       "    }\n",
       "</style>\n",
       "<table border=\"1\" class=\"dataframe\">\n",
       "  <thead>\n",
       "    <tr style=\"text-align: right;\">\n",
       "      <th></th>\n",
       "      <th>year</th>\n",
       "      <th>region</th>\n",
       "      <th>npg</th>\n",
       "      <th>birth_rate</th>\n",
       "      <th>death_rate</th>\n",
       "      <th>migratory_growth</th>\n",
       "      <th>population</th>\n",
       "    </tr>\n",
       "  </thead>\n",
       "  <tbody>\n",
       "    <tr>\n",
       "      <td>0</td>\n",
       "      <td>1990</td>\n",
       "      <td>Republic of Adygea</td>\n",
       "      <td>1.9</td>\n",
       "      <td>14.2</td>\n",
       "      <td>12.3</td>\n",
       "      <td>NaN</td>\n",
       "      <td>434788.0</td>\n",
       "    </tr>\n",
       "    <tr>\n",
       "      <td>1</td>\n",
       "      <td>1990</td>\n",
       "      <td>Altai Krai</td>\n",
       "      <td>1.8</td>\n",
       "      <td>12.9</td>\n",
       "      <td>11.1</td>\n",
       "      <td>NaN</td>\n",
       "      <td>2640419.0</td>\n",
       "    </tr>\n",
       "    <tr>\n",
       "      <td>2</td>\n",
       "      <td>1990</td>\n",
       "      <td>Amur Oblast</td>\n",
       "      <td>7.6</td>\n",
       "      <td>16.2</td>\n",
       "      <td>8.6</td>\n",
       "      <td>NaN</td>\n",
       "      <td>1055337.0</td>\n",
       "    </tr>\n",
       "    <tr>\n",
       "      <td>3</td>\n",
       "      <td>1990</td>\n",
       "      <td>Arkhangelsk Oblast</td>\n",
       "      <td>3.7</td>\n",
       "      <td>13.5</td>\n",
       "      <td>9.8</td>\n",
       "      <td>NaN</td>\n",
       "      <td>1523509.0</td>\n",
       "    </tr>\n",
       "    <tr>\n",
       "      <td>4</td>\n",
       "      <td>1990</td>\n",
       "      <td>Astrakhan Oblast</td>\n",
       "      <td>4.7</td>\n",
       "      <td>15.1</td>\n",
       "      <td>10.4</td>\n",
       "      <td>NaN</td>\n",
       "      <td>997516.0</td>\n",
       "    </tr>\n",
       "  </tbody>\n",
       "</table>\n",
       "</div>"
      ],
      "text/plain": [
       "   year              region  npg  birth_rate  death_rate  migratory_growth  \\\n",
       "0  1990  Republic of Adygea  1.9        14.2        12.3               NaN   \n",
       "1  1990          Altai Krai  1.8        12.9        11.1               NaN   \n",
       "2  1990         Amur Oblast  7.6        16.2         8.6               NaN   \n",
       "3  1990  Arkhangelsk Oblast  3.7        13.5         9.8               NaN   \n",
       "4  1990    Astrakhan Oblast  4.7        15.1        10.4               NaN   \n",
       "\n",
       "   population  \n",
       "0    434788.0  \n",
       "1   2640419.0  \n",
       "2   1055337.0  \n",
       "3   1523509.0  \n",
       "4    997516.0  "
      ]
     },
     "execution_count": 314,
     "metadata": {},
     "output_type": "execute_result"
    }
   ],
   "source": [
    "import numpy as np\n",
    "import pandas as pd\n",
    "import matplotlib.pyplot as plt\n",
    "import statsmodels.formula.api as sm\n",
    "from scipy import stats\n",
    "from statsmodels.formula.api import ols\n",
    "\n",
    "df=pd.read_csv('russian_demography.csv')\n",
    "df.head()"
   ]
  },
  {
   "cell_type": "code",
   "execution_count": 315,
   "metadata": {},
   "outputs": [
    {
     "data": {
      "text/html": [
       "<div>\n",
       "<style scoped>\n",
       "    .dataframe tbody tr th:only-of-type {\n",
       "        vertical-align: middle;\n",
       "    }\n",
       "\n",
       "    .dataframe tbody tr th {\n",
       "        vertical-align: top;\n",
       "    }\n",
       "\n",
       "    .dataframe thead th {\n",
       "        text-align: right;\n",
       "    }\n",
       "</style>\n",
       "<table border=\"1\" class=\"dataframe\">\n",
       "  <thead>\n",
       "    <tr style=\"text-align: right;\">\n",
       "      <th></th>\n",
       "      <th>birth_rate</th>\n",
       "      <th>death_rate</th>\n",
       "    </tr>\n",
       "  </thead>\n",
       "  <tbody>\n",
       "    <tr>\n",
       "      <td>0</td>\n",
       "      <td>14.2</td>\n",
       "      <td>12.3</td>\n",
       "    </tr>\n",
       "    <tr>\n",
       "      <td>1</td>\n",
       "      <td>12.9</td>\n",
       "      <td>11.1</td>\n",
       "    </tr>\n",
       "    <tr>\n",
       "      <td>2</td>\n",
       "      <td>16.2</td>\n",
       "      <td>8.6</td>\n",
       "    </tr>\n",
       "    <tr>\n",
       "      <td>3</td>\n",
       "      <td>13.5</td>\n",
       "      <td>9.8</td>\n",
       "    </tr>\n",
       "    <tr>\n",
       "      <td>4</td>\n",
       "      <td>15.1</td>\n",
       "      <td>10.4</td>\n",
       "    </tr>\n",
       "  </tbody>\n",
       "</table>\n",
       "</div>"
      ],
      "text/plain": [
       "   birth_rate  death_rate\n",
       "0        14.2        12.3\n",
       "1        12.9        11.1\n",
       "2        16.2         8.6\n",
       "3        13.5         9.8\n",
       "4        15.1        10.4"
      ]
     },
     "execution_count": 315,
     "metadata": {},
     "output_type": "execute_result"
    }
   ],
   "source": [
    "plt.style.use('seaborn-talk')\n",
    "atributi = ['birth_rate','death_rate']\n",
    "data_por = pd.read_csv(\"russian_demography.csv\",usecols=atributi)\n",
    "data_por.head()"
   ]
  },
  {
   "cell_type": "code",
   "execution_count": 316,
   "metadata": {},
   "outputs": [
    {
     "data": {
      "text/html": [
       "<div>\n",
       "<style scoped>\n",
       "    .dataframe tbody tr th:only-of-type {\n",
       "        vertical-align: middle;\n",
       "    }\n",
       "\n",
       "    .dataframe tbody tr th {\n",
       "        vertical-align: top;\n",
       "    }\n",
       "\n",
       "    .dataframe thead th {\n",
       "        text-align: right;\n",
       "    }\n",
       "</style>\n",
       "<table border=\"1\" class=\"dataframe\">\n",
       "  <thead>\n",
       "    <tr style=\"text-align: right;\">\n",
       "      <th></th>\n",
       "      <th>birth_rate</th>\n",
       "      <th>death_rate</th>\n",
       "    </tr>\n",
       "  </thead>\n",
       "  <tbody>\n",
       "    <tr>\n",
       "      <td>count</td>\n",
       "      <td>2317.000000</td>\n",
       "      <td>2315.000000</td>\n",
       "    </tr>\n",
       "    <tr>\n",
       "      <td>mean</td>\n",
       "      <td>11.549245</td>\n",
       "      <td>13.901382</td>\n",
       "    </tr>\n",
       "    <tr>\n",
       "      <td>std</td>\n",
       "      <td>3.233035</td>\n",
       "      <td>3.499475</td>\n",
       "    </tr>\n",
       "    <tr>\n",
       "      <td>min</td>\n",
       "      <td>6.200000</td>\n",
       "      <td>3.200000</td>\n",
       "    </tr>\n",
       "    <tr>\n",
       "      <td>25%</td>\n",
       "      <td>9.300000</td>\n",
       "      <td>12.100000</td>\n",
       "    </tr>\n",
       "    <tr>\n",
       "      <td>50%</td>\n",
       "      <td>11.000000</td>\n",
       "      <td>14.100000</td>\n",
       "    </tr>\n",
       "    <tr>\n",
       "      <td>75%</td>\n",
       "      <td>13.000000</td>\n",
       "      <td>16.100000</td>\n",
       "    </tr>\n",
       "    <tr>\n",
       "      <td>max</td>\n",
       "      <td>29.900000</td>\n",
       "      <td>24.900000</td>\n",
       "    </tr>\n",
       "  </tbody>\n",
       "</table>\n",
       "</div>"
      ],
      "text/plain": [
       "        birth_rate   death_rate\n",
       "count  2317.000000  2315.000000\n",
       "mean     11.549245    13.901382\n",
       "std       3.233035     3.499475\n",
       "min       6.200000     3.200000\n",
       "25%       9.300000    12.100000\n",
       "50%      11.000000    14.100000\n",
       "75%      13.000000    16.100000\n",
       "max      29.900000    24.900000"
      ]
     },
     "execution_count": 316,
     "metadata": {},
     "output_type": "execute_result"
    }
   ],
   "source": [
    "data_por.describe()"
   ]
  },
  {
   "cell_type": "code",
   "execution_count": 317,
   "metadata": {},
   "outputs": [
    {
     "data": {
      "text/html": [
       "<div>\n",
       "<style scoped>\n",
       "    .dataframe tbody tr th:only-of-type {\n",
       "        vertical-align: middle;\n",
       "    }\n",
       "\n",
       "    .dataframe tbody tr th {\n",
       "        vertical-align: top;\n",
       "    }\n",
       "\n",
       "    .dataframe thead th {\n",
       "        text-align: right;\n",
       "    }\n",
       "</style>\n",
       "<table border=\"1\" class=\"dataframe\">\n",
       "  <thead>\n",
       "    <tr style=\"text-align: right;\">\n",
       "      <th></th>\n",
       "      <th>birth_rate</th>\n",
       "      <th>death_rate</th>\n",
       "    </tr>\n",
       "  </thead>\n",
       "  <tbody>\n",
       "    <tr>\n",
       "      <td>birth_rate</td>\n",
       "      <td>1.000000</td>\n",
       "      <td>-0.618059</td>\n",
       "    </tr>\n",
       "    <tr>\n",
       "      <td>death_rate</td>\n",
       "      <td>-0.618059</td>\n",
       "      <td>1.000000</td>\n",
       "    </tr>\n",
       "  </tbody>\n",
       "</table>\n",
       "</div>"
      ],
      "text/plain": [
       "            birth_rate  death_rate\n",
       "birth_rate    1.000000   -0.618059\n",
       "death_rate   -0.618059    1.000000"
      ]
     },
     "execution_count": 317,
     "metadata": {},
     "output_type": "execute_result"
    }
   ],
   "source": [
    "data_por.corr() # Koeficijent korelacije "
   ]
  },
  {
   "cell_type": "code",
   "execution_count": 318,
   "metadata": {},
   "outputs": [
    {
     "data": {
      "text/plain": [
       "birth_rate    12.5\n",
       "death_rate    15.6\n",
       "Name: 0.7, dtype: float64"
      ]
     },
     "execution_count": 318,
     "metadata": {},
     "output_type": "execute_result"
    }
   ],
   "source": [
    "data_por.quantile(0.7)# Kvantil reda 0.7"
   ]
  },
  {
   "cell_type": "code",
   "execution_count": 319,
   "metadata": {},
   "outputs": [
    {
     "data": {
      "text/plain": [
       "birth_rate    3.233035\n",
       "death_rate    3.499475\n",
       "dtype: float64"
      ]
     },
     "execution_count": 319,
     "metadata": {},
     "output_type": "execute_result"
    }
   ],
   "source": [
    "data_por.std() # Standardna devijacija"
   ]
  },
  {
   "cell_type": "code",
   "execution_count": 320,
   "metadata": {},
   "outputs": [
    {
     "data": {
      "text/html": [
       "<div>\n",
       "<style scoped>\n",
       "    .dataframe tbody tr th:only-of-type {\n",
       "        vertical-align: middle;\n",
       "    }\n",
       "\n",
       "    .dataframe tbody tr th {\n",
       "        vertical-align: top;\n",
       "    }\n",
       "\n",
       "    .dataframe thead th {\n",
       "        text-align: right;\n",
       "    }\n",
       "</style>\n",
       "<table border=\"1\" class=\"dataframe\">\n",
       "  <thead>\n",
       "    <tr style=\"text-align: right;\">\n",
       "      <th></th>\n",
       "      <th>birth_rate</th>\n",
       "      <th>death_rate</th>\n",
       "    </tr>\n",
       "  </thead>\n",
       "  <tbody>\n",
       "    <tr>\n",
       "      <td>birth_rate</td>\n",
       "      <td>10.452518</td>\n",
       "      <td>-6.995274</td>\n",
       "    </tr>\n",
       "    <tr>\n",
       "      <td>death_rate</td>\n",
       "      <td>-6.995274</td>\n",
       "      <td>12.246325</td>\n",
       "    </tr>\n",
       "  </tbody>\n",
       "</table>\n",
       "</div>"
      ],
      "text/plain": [
       "            birth_rate  death_rate\n",
       "birth_rate   10.452518   -6.995274\n",
       "death_rate   -6.995274   12.246325"
      ]
     },
     "execution_count": 320,
     "metadata": {},
     "output_type": "execute_result"
    }
   ],
   "source": [
    "data_por.cov() # Kovarijansa"
   ]
  },
  {
   "cell_type": "code",
   "execution_count": 321,
   "metadata": {},
   "outputs": [
    {
     "data": {
      "text/html": [
       "<div>\n",
       "<style scoped>\n",
       "    .dataframe tbody tr th:only-of-type {\n",
       "        vertical-align: middle;\n",
       "    }\n",
       "\n",
       "    .dataframe tbody tr th {\n",
       "        vertical-align: top;\n",
       "    }\n",
       "\n",
       "    .dataframe thead th {\n",
       "        text-align: right;\n",
       "    }\n",
       "</style>\n",
       "<table border=\"1\" class=\"dataframe\">\n",
       "  <thead>\n",
       "    <tr style=\"text-align: right;\">\n",
       "      <th></th>\n",
       "      <th>year</th>\n",
       "      <th>region</th>\n",
       "      <th>npg</th>\n",
       "      <th>birth_rate</th>\n",
       "      <th>death_rate</th>\n",
       "      <th>migratory_growth</th>\n",
       "      <th>population</th>\n",
       "    </tr>\n",
       "  </thead>\n",
       "  <tbody>\n",
       "    <tr>\n",
       "      <td>0</td>\n",
       "      <td>1990</td>\n",
       "      <td>Republic of Adygea</td>\n",
       "      <td>1.9</td>\n",
       "      <td>14.2</td>\n",
       "      <td>12.3</td>\n",
       "      <td>NaN</td>\n",
       "      <td>434788.0</td>\n",
       "    </tr>\n",
       "    <tr>\n",
       "      <td>1</td>\n",
       "      <td>1990</td>\n",
       "      <td>Altai Krai</td>\n",
       "      <td>1.8</td>\n",
       "      <td>12.9</td>\n",
       "      <td>11.1</td>\n",
       "      <td>NaN</td>\n",
       "      <td>2640419.0</td>\n",
       "    </tr>\n",
       "    <tr>\n",
       "      <td>2</td>\n",
       "      <td>1990</td>\n",
       "      <td>Amur Oblast</td>\n",
       "      <td>7.6</td>\n",
       "      <td>16.2</td>\n",
       "      <td>8.6</td>\n",
       "      <td>NaN</td>\n",
       "      <td>1055337.0</td>\n",
       "    </tr>\n",
       "    <tr>\n",
       "      <td>3</td>\n",
       "      <td>1990</td>\n",
       "      <td>Arkhangelsk Oblast</td>\n",
       "      <td>3.7</td>\n",
       "      <td>13.5</td>\n",
       "      <td>9.8</td>\n",
       "      <td>NaN</td>\n",
       "      <td>1523509.0</td>\n",
       "    </tr>\n",
       "    <tr>\n",
       "      <td>4</td>\n",
       "      <td>1990</td>\n",
       "      <td>Astrakhan Oblast</td>\n",
       "      <td>4.7</td>\n",
       "      <td>15.1</td>\n",
       "      <td>10.4</td>\n",
       "      <td>NaN</td>\n",
       "      <td>997516.0</td>\n",
       "    </tr>\n",
       "  </tbody>\n",
       "</table>\n",
       "</div>"
      ],
      "text/plain": [
       "   year              region  npg  birth_rate  death_rate  migratory_growth  \\\n",
       "0  1990  Republic of Adygea  1.9        14.2        12.3               NaN   \n",
       "1  1990          Altai Krai  1.8        12.9        11.1               NaN   \n",
       "2  1990         Amur Oblast  7.6        16.2         8.6               NaN   \n",
       "3  1990  Arkhangelsk Oblast  3.7        13.5         9.8               NaN   \n",
       "4  1990    Astrakhan Oblast  4.7        15.1        10.4               NaN   \n",
       "\n",
       "   population  \n",
       "0    434788.0  \n",
       "1   2640419.0  \n",
       "2   1055337.0  \n",
       "3   1523509.0  \n",
       "4    997516.0  "
      ]
     },
     "execution_count": 321,
     "metadata": {},
     "output_type": "execute_result"
    }
   ],
   "source": [
    "import numpy as np\n",
    "import pandas as pd\n",
    "import matplotlib.pyplot as plt\n",
    "import statsmodels.formula.api as sm\n",
    "from scipy import stats\n",
    "from statsmodels.formula.api import ols\n",
    "\n",
    "df=pd.read_csv('russian_demography.csv')\n",
    "df.head()"
   ]
  },
  {
   "cell_type": "code",
   "execution_count": 322,
   "metadata": {},
   "outputs": [
    {
     "data": {
      "text/plain": [
       "<matplotlib.axes._subplots.AxesSubplot at 0x2a21e059788>"
      ]
     },
     "execution_count": 322,
     "metadata": {},
     "output_type": "execute_result"
    },
    {
     "data": {
      "image/png": "[encoded data removed]",
      "text/plain": [
       "<Figure size 748.8x514.8 with 1 Axes>"
      ]
     },
     "metadata": {
      "needs_background": "light"
     },
     "output_type": "display_data"
    }
   ],
   "source": [
    "import pandas as pd\n",
    "df=pd.read_csv('russian_demography.csv')\n",
    "df.plot(kind=\"scatter\",x=\"birth_rate\",y=\"death_rate\")"
   ]
  },
  {
   "cell_type": "code",
   "execution_count": 323,
   "metadata": {},
   "outputs": [
    {
     "data": {
      "text/html": [
       "<div>\n",
       "<style scoped>\n",
       "    .dataframe tbody tr th:only-of-type {\n",
       "        vertical-align: middle;\n",
       "    }\n",
       "\n",
       "    .dataframe tbody tr th {\n",
       "        vertical-align: top;\n",
       "    }\n",
       "\n",
       "    .dataframe thead th {\n",
       "        text-align: right;\n",
       "    }\n",
       "</style>\n",
       "<table border=\"1\" class=\"dataframe\">\n",
       "  <thead>\n",
       "    <tr style=\"text-align: right;\">\n",
       "      <th></th>\n",
       "      <th>year</th>\n",
       "      <th>region</th>\n",
       "      <th>npg</th>\n",
       "      <th>birth_rate</th>\n",
       "      <th>death_rate</th>\n",
       "      <th>migratory_growth</th>\n",
       "      <th>population</th>\n",
       "    </tr>\n",
       "  </thead>\n",
       "  <tbody>\n",
       "    <tr>\n",
       "      <td>0</td>\n",
       "      <td>1990</td>\n",
       "      <td>Republic of Adygea</td>\n",
       "      <td>1.9</td>\n",
       "      <td>14.2</td>\n",
       "      <td>12.3</td>\n",
       "      <td>NaN</td>\n",
       "      <td>434788.0</td>\n",
       "    </tr>\n",
       "    <tr>\n",
       "      <td>1</td>\n",
       "      <td>1990</td>\n",
       "      <td>Altai Krai</td>\n",
       "      <td>1.8</td>\n",
       "      <td>12.9</td>\n",
       "      <td>11.1</td>\n",
       "      <td>NaN</td>\n",
       "      <td>2640419.0</td>\n",
       "    </tr>\n",
       "    <tr>\n",
       "      <td>2</td>\n",
       "      <td>1990</td>\n",
       "      <td>Amur Oblast</td>\n",
       "      <td>7.6</td>\n",
       "      <td>16.2</td>\n",
       "      <td>8.6</td>\n",
       "      <td>NaN</td>\n",
       "      <td>1055337.0</td>\n",
       "    </tr>\n",
       "    <tr>\n",
       "      <td>3</td>\n",
       "      <td>1990</td>\n",
       "      <td>Arkhangelsk Oblast</td>\n",
       "      <td>3.7</td>\n",
       "      <td>13.5</td>\n",
       "      <td>9.8</td>\n",
       "      <td>NaN</td>\n",
       "      <td>1523509.0</td>\n",
       "    </tr>\n",
       "    <tr>\n",
       "      <td>4</td>\n",
       "      <td>1990</td>\n",
       "      <td>Astrakhan Oblast</td>\n",
       "      <td>4.7</td>\n",
       "      <td>15.1</td>\n",
       "      <td>10.4</td>\n",
       "      <td>NaN</td>\n",
       "      <td>997516.0</td>\n",
       "    </tr>\n",
       "  </tbody>\n",
       "</table>\n",
       "</div>"
      ],
      "text/plain": [
       "   year              region  npg  birth_rate  death_rate  migratory_growth  \\\n",
       "0  1990  Republic of Adygea  1.9        14.2        12.3               NaN   \n",
       "1  1990          Altai Krai  1.8        12.9        11.1               NaN   \n",
       "2  1990         Amur Oblast  7.6        16.2         8.6               NaN   \n",
       "3  1990  Arkhangelsk Oblast  3.7        13.5         9.8               NaN   \n",
       "4  1990    Astrakhan Oblast  4.7        15.1        10.4               NaN   \n",
       "\n",
       "   population  \n",
       "0    434788.0  \n",
       "1   2640419.0  \n",
       "2   1055337.0  \n",
       "3   1523509.0  \n",
       "4    997516.0  "
      ]
     },
     "execution_count": 323,
     "metadata": {},
     "output_type": "execute_result"
    }
   ],
   "source": [
    "# više ulaznih promenljivih i 1 izlazna koja zavisi od više ulaznih\n",
    "import numpy as np\n",
    "import pandas as pd\n",
    "import matplotlib.pyplot as plt\n",
    "import statsmodels.formula.api as sm\n",
    "from scipy import stats\n",
    "from statsmodels.formula.api import ols\n",
    "\n",
    "df=pd.read_csv('russian_demography.csv')\n",
    "df.head()"
   ]
  },
  {
   "cell_type": "code",
   "execution_count": 324,
   "metadata": {},
   "outputs": [
    {
     "name": "stdout",
     "output_type": "stream",
     "text": [
      "                            OLS Regression Results                            \n",
      "==============================================================================\n",
      "Dep. Variable:             birth_rate   R-squared:                       0.382\n",
      "Model:                            OLS   Adj. R-squared:                  0.382\n",
      "Method:                 Least Squares   F-statistic:                     1430.\n",
      "Date:                Fri, 24 Jan 2020   Prob (F-statistic):          5.12e-244\n",
      "Time:                        18:50:13   Log-Likelihood:                -5444.6\n",
      "No. Observations:                2315   AIC:                         1.089e+04\n",
      "Df Residuals:                    2313   BIC:                         1.090e+04\n",
      "Df Model:                           1                                         \n",
      "Covariance Type:            nonrobust                                         \n",
      "==============================================================================\n",
      "                 coef    std err          t      P>|t|      [0.025      0.975]\n",
      "------------------------------------------------------------------------------\n",
      "Intercept     19.4889      0.217     89.994      0.000      19.064      19.914\n",
      "death_rate    -0.5712      0.015    -37.811      0.000      -0.601      -0.542\n",
      "==============================================================================\n",
      "Omnibus:                      630.252   Durbin-Watson:                   1.358\n",
      "Prob(Omnibus):                  0.000   Jarque-Bera (JB):             2479.786\n",
      "Skew:                           1.283   Prob(JB):                         0.00\n",
      "Kurtosis:                       7.373   Cond. No.                         59.0\n",
      "==============================================================================\n",
      "\n",
      "Warnings:\n",
      "[1] Standard Errors assume that the covariance matrix of the errors is correctly specified.\n"
     ]
    }
   ],
   "source": [
    "model1 = ols(\"birth_rate ~ death_rate\", df).fit()\n",
    "print(model1.summary())"
   ]
  },
  {
   "cell_type": "code",
   "execution_count": 325,
   "metadata": {},
   "outputs": [
    {
     "name": "stdout",
     "output_type": "stream",
     "text": [
      "                            OLS Regression Results                            \n",
      "==============================================================================\n",
      "Dep. Variable:             death_rate   R-squared:                       0.999\n",
      "Model:                            OLS   Adj. R-squared:                  0.999\n",
      "Method:                 Least Squares   F-statistic:                 5.533e+05\n",
      "Date:                Fri, 24 Jan 2020   Prob (F-statistic):               0.00\n",
      "Time:                        18:50:13   Log-Likelihood:                 1430.1\n",
      "No. Observations:                2315   AIC:                            -2852.\n",
      "Df Residuals:                    2311   BIC:                            -2829.\n",
      "Df Model:                           3                                         \n",
      "Covariance Type:            nonrobust                                         \n",
      "==================================================================================\n",
      "                     coef    std err          t      P>|t|      [0.025      0.975]\n",
      "----------------------------------------------------------------------------------\n",
      "Intercept         -0.0545      0.025     -2.201      0.028      -0.103      -0.006\n",
      "birth_rate         1.0058      0.002    504.607      0.000       1.002       1.010\n",
      "npg               -0.9974      0.001   -766.312      0.000      -1.000      -0.995\n",
      "birth_rate:npg    -0.0003   8.57e-05     -3.009      0.003      -0.000   -8.98e-05\n",
      "==============================================================================\n",
      "Omnibus:                      524.046   Durbin-Watson:                   1.783\n",
      "Prob(Omnibus):                  0.000   Jarque-Bera (JB):            22161.346\n",
      "Skew:                          -0.168   Prob(JB):                         0.00\n",
      "Kurtosis:                      18.154   Cond. No.                         842.\n",
      "==============================================================================\n",
      "\n",
      "Warnings:\n",
      "[1] Standard Errors assume that the covariance matrix of the errors is correctly specified.\n"
     ]
    }
   ],
   "source": [
    "model3 = ols(\"death_rate ~ birth_rate * npg\", df).fit()\n",
    "print(model3.summary())"
   ]
  },
  {
   "cell_type": "code",
   "execution_count": 326,
   "metadata": {},
   "outputs": [
    {
     "name": "stdout",
     "output_type": "stream",
     "text": [
      "                            OLS Regression Results                            \n",
      "==============================================================================\n",
      "Dep. Variable:                    npg   R-squared:                       0.822\n",
      "Model:                            OLS   Adj. R-squared:                  0.822\n",
      "Method:                 Least Squares   F-statistic:                 1.069e+04\n",
      "Date:                Fri, 24 Jan 2020   Prob (F-statistic):               0.00\n",
      "Time:                        18:50:14   Log-Likelihood:                -5459.5\n",
      "No. Observations:                2315   AIC:                         1.092e+04\n",
      "Df Residuals:                    2313   BIC:                         1.093e+04\n",
      "Df Model:                           1                                         \n",
      "Covariance Type:            nonrobust                                         \n",
      "==============================================================================\n",
      "                 coef    std err          t      P>|t|      [0.025      0.975]\n",
      "------------------------------------------------------------------------------\n",
      "Intercept     19.5077      0.218     89.504      0.000      19.080      19.935\n",
      "death_rate    -1.5719      0.015   -103.387      0.000      -1.602      -1.542\n",
      "==============================================================================\n",
      "Omnibus:                      625.423   Durbin-Watson:                   1.344\n",
      "Prob(Omnibus):                  0.000   Jarque-Bera (JB):             2429.950\n",
      "Skew:                           1.277   Prob(JB):                         0.00\n",
      "Kurtosis:                       7.320   Cond. No.                         59.0\n",
      "==============================================================================\n",
      "\n",
      "Warnings:\n",
      "[1] Standard Errors assume that the covariance matrix of the errors is correctly specified.\n"
     ]
    }
   ],
   "source": [
    "model4 = ols(\"npg ~ death_rate\", df).fit()\n",
    "print(model4.summary())"
   ]
  },
  {
   "cell_type": "code",
   "execution_count": 329,
   "metadata": {},
   "outputs": [
    {
     "data": {
      "image/png": "[encoded data removed]",
      "text/plain": [
       "<Figure size 748.8x514.8 with 1 Axes>"
      ]
     },
     "metadata": {
      "needs_background": "light"
     },
     "output_type": "display_data"
    }
   ],
   "source": [
    "#nelinearna regresija\n",
    "import numpy as np\n",
    "import pandas as pd\n",
    "import matplotlib.pyplot as plt\n",
    "import statsmodels.formula.api as sm\n",
    "from scipy import stats\n",
    "\n",
    "# Ucitavanje podataka\n",
    "df=pd.read_csv('russian_demography(2).csv')\n",
    "\n",
    "# plotovanje\n",
    "df.plot('birth_rate', 'death_rate', style='o')\n",
    "\n",
    "plt.show()\n"
   ]
  },
  {
   "cell_type": "code",
   "execution_count": 330,
   "metadata": {
    "scrolled": false
   },
   "outputs": [
    {
     "data": {
      "image/png": "[encoded data removed]",
      "text/plain": [
       "<Figure size 748.8x514.8 with 1 Axes>"
      ]
     },
     "metadata": {
      "needs_background": "light"
     },
     "output_type": "display_data"
    }
   ],
   "source": [
    "Rez1= sm.ols('birth_rate ~ death_rate', df).fit()\n",
    "Rez2 = sm.ols('birth_rate ~ death_rate', df[1:]).fit() # iskljucujemo prvu tacku koja deluje kao \"outlier\"\n",
    "df.plot('birth_rate', 'death_rate', style='o')\n",
    "plt.plot(df.birth_rate, Rez1.fittedvalues)\n",
    "plt.plot(df.birth_rate[1:], Rez2.fittedvalues)\n",
    "plt.show()"
   ]
  },
  {
   "cell_type": "code",
   "execution_count": 331,
   "metadata": {},
   "outputs": [
    {
     "name": "stdout",
     "output_type": "stream",
     "text": [
      "                            OLS Regression Results                            \n",
      "==============================================================================\n",
      "Dep. Variable:             birth_rate   R-squared:                       0.038\n",
      "Model:                            OLS   Adj. R-squared:                 -0.016\n",
      "Method:                 Least Squares   F-statistic:                    0.7031\n",
      "Date:                Fri, 24 Jan 2020   Prob (F-statistic):              0.413\n",
      "Time:                        18:51:16   Log-Likelihood:                -30.227\n",
      "No. Observations:                  20   AIC:                             64.45\n",
      "Df Residuals:                      18   BIC:                             66.45\n",
      "Df Model:                           1                                         \n",
      "Covariance Type:            nonrobust                                         \n",
      "==============================================================================\n",
      "                 coef    std err          t      P>|t|      [0.025      0.975]\n",
      "------------------------------------------------------------------------------\n",
      "Intercept      9.9925      0.658     15.183      0.000       8.610      11.375\n",
      "death_rate     0.0376      0.045      0.839      0.413      -0.057       0.132\n",
      "==============================================================================\n",
      "Omnibus:                        3.568   Durbin-Watson:                   2.111\n",
      "Prob(Omnibus):                  0.168   Jarque-Bera (JB):                1.326\n",
      "Skew:                          -0.000   Prob(JB):                        0.515\n",
      "Kurtosis:                       1.738   Cond. No.                         37.5\n",
      "==============================================================================\n",
      "\n",
      "Warnings:\n",
      "[1] Standard Errors assume that the covariance matrix of the errors is correctly specified.\n",
      "                            OLS Regression Results                            \n",
      "==============================================================================\n",
      "Dep. Variable:             birth_rate   R-squared:                       0.008\n",
      "Model:                            OLS   Adj. R-squared:                 -0.051\n",
      "Method:                 Least Squares   F-statistic:                    0.1328\n",
      "Date:                Fri, 24 Jan 2020   Prob (F-statistic):              0.720\n",
      "Time:                        18:51:16   Log-Likelihood:                -28.548\n",
      "No. Observations:                  19   AIC:                             61.10\n",
      "Df Residuals:                      17   BIC:                             62.98\n",
      "Df Model:                           1                                         \n",
      "Covariance Type:            nonrobust                                         \n",
      "==============================================================================\n",
      "                 coef    std err          t      P>|t|      [0.025      0.975]\n",
      "------------------------------------------------------------------------------\n",
      "Intercept     10.3333      0.724     14.278      0.000       8.806      11.860\n",
      "death_rate     0.0175      0.048      0.364      0.720      -0.084       0.119\n",
      "==============================================================================\n",
      "Omnibus:                        3.393   Durbin-Watson:                   2.224\n",
      "Prob(Omnibus):                  0.183   Jarque-Bera (JB):                1.299\n",
      "Skew:                          -0.097   Prob(JB):                        0.522\n",
      "Kurtosis:                       1.734   Cond. No.                         41.4\n",
      "==============================================================================\n",
      "\n",
      "Warnings:\n",
      "[1] Standard Errors assume that the covariance matrix of the errors is correctly specified.\n"
     ]
    },
    {
     "name": "stderr",
     "output_type": "stream",
     "text": [
      "D:\\ProgramData\\Anaconda3\\lib\\site-packages\\scipy\\stats\\stats.py:1450: UserWarning: kurtosistest only valid for n>=20 ... continuing anyway, n=19\n",
      "  \"anyway, n=%i\" % int(n))\n"
     ]
    }
   ],
   "source": [
    "# Rezime regresije:\n",
    "print(Rez1.summary())\n",
    "print(Rez2.summary())"
   ]
  },
  {
   "cell_type": "code",
   "execution_count": 332,
   "metadata": {},
   "outputs": [
    {
     "name": "stdout",
     "output_type": "stream",
     "text": [
      "w1= [3. 1.]\n"
     ]
    },
    {
     "name": "stderr",
     "output_type": "stream",
     "text": [
      "D:\\ProgramData\\Anaconda3\\lib\\site-packages\\ipykernel_launcher.py:5: FutureWarning: `rcond` parameter will change to the default of machine precision times ``max(M, N)`` where M and N are the input matrix dimensions.\n",
      "To use the future default and silence this warning we advise to pass `rcond=None`, to keep using the old, explicitly pass `rcond=-1`.\n",
      "  \"\"\"\n"
     ]
    },
    {
     "data": {
      "image/png": "[encoded data removed]",
      "text/plain": [
       "<Figure size 720x576 with 1 Axes>"
      ]
     },
     "metadata": {
      "needs_background": "light"
     },
     "output_type": "display_data"
    }
   ],
   "source": [
    "A=np.array(df['birth_rate'])\n",
    "A=np.array([np.ones(len(A)),A])\n",
    "y=np.array(df['death_rate'])\n",
    "\n",
    "w1 = np.linalg.lstsq(A.T,y)[0] # finding the optimal parameters\n",
    "print('w1=',w1)\n",
    "def f(x,w):\n",
    "    return w[0]+w[1]*x\n",
    "\n",
    "ax=df.plot(kind='scatter',s=1,x='birth_rate',y='death_rate',figsize=[10,8])\n",
    "x0,x1=plt.xlim()\n",
    "ax.plot([x0,x1],[f(x0,w1),f(x1,w1)],'k')\n",
    "plt.show()"
   ]
  },
  {
   "cell_type": "code",
   "execution_count": 333,
   "metadata": {},
   "outputs": [
    {
     "name": "stderr",
     "output_type": "stream",
     "text": [
      "D:\\ProgramData\\Anaconda3\\lib\\site-packages\\ipykernel_launcher.py:7: FutureWarning: `rcond` parameter will change to the default of machine precision times ``max(M, N)`` where M and N are the input matrix dimensions.\n",
      "To use the future default and silence this warning we advise to pass `rcond=None`, to keep using the old, explicitly pass `rcond=-1`.\n",
      "  import sys\n"
     ]
    },
    {
     "name": "stdout",
     "output_type": "stream",
     "text": [
      "w1= [9.3255814  0.44186047]\n"
     ]
    },
    {
     "data": {
      "image/png": "[encoded data removed]",
      "text/plain": [
       "<Figure size 720x576 with 1 Axes>"
      ]
     },
     "metadata": {
      "needs_background": "light"
     },
     "output_type": "display_data"
    }
   ],
   "source": [
    "df2 = df[1:] # iskljucujemo prvu tacku koja deluje kao \"outlier\"\n",
    "\n",
    "A=np.array(df2['birth_rate'])\n",
    "A=np.array([np.ones(len(A)),A])\n",
    "y=np.array(df2['death_rate'])\n",
    "\n",
    "w1 = np.linalg.lstsq(A.T,y)[0] # finding the optimal parameters\n",
    "print('w1=',w1)\n",
    "def f(x,w):\n",
    "    return w[0]+w[1]*x\n",
    "\n",
    "ax=df2.plot(kind='scatter',s=1,x='birth_rate',y='death_rate',figsize=[10,8])\n",
    "x0,x1=plt.xlim()\n",
    "ax.plot([x0,x1],[f(x0,w1),f(x1,w1)],'k')\n",
    "plt.show()"
   ]
  },
  {
   "cell_type": "code",
   "execution_count": 334,
   "metadata": {},
   "outputs": [
    {
     "name": "stderr",
     "output_type": "stream",
     "text": [
      "D:\\ProgramData\\Anaconda3\\lib\\site-packages\\ipykernel_launcher.py:9: FutureWarning: `rcond` parameter will change to the default of machine precision times ``max(M, N)`` where M and N are the input matrix dimensions.\n",
      "To use the future default and silence this warning we advise to pass `rcond=None`, to keep using the old, explicitly pass `rcond=-1`.\n",
      "  if __name__ == '__main__':\n"
     ]
    },
    {
     "name": "stdout",
     "output_type": "stream",
     "text": [
      "w2= [ 3.00000000e+00  1.00000000e+00 -7.93792475e-14]\n"
     ]
    },
    {
     "data": {
      "image/png": "[encoded data removed]",
      "text/plain": [
       "<Figure size 720x576 with 1 Axes>"
      ]
     },
     "metadata": {
      "needs_background": "light"
     },
     "output_type": "display_data"
    }
   ],
   "source": [
    "# Nelinearna regresija\n",
    "\n",
    "# kvadratna regresija:\n",
    "\n",
    "A=np.array(df['birth_rate'])\n",
    "A=np.array([np.ones(len(A)),A,A**2])\n",
    "y=np.array(df['death_rate'])\n",
    "\n",
    "w2 = np.linalg.lstsq(A.T,y)[0] \n",
    "print('w2=',w2)\n",
    "def f2(x,w):\n",
    "    return w[0]+w[1]*x+w[2]*x**2\n",
    "\n",
    "ax=df.plot(kind='scatter',s=1,x='birth_rate',y='death_rate',figsize=[10,8])\n",
    "x0,x1=plt.xlim()\n",
    "\n",
    "opseg=x1-x0\n",
    "X=np.arange(x0,x1,opseg/100.)\n",
    "ax.plot(X,f2(X,w2),'k')\n",
    "plt.show()"
   ]
  },
  {
   "cell_type": "code",
   "execution_count": 335,
   "metadata": {},
   "outputs": [
    {
     "name": "stderr",
     "output_type": "stream",
     "text": [
      "D:\\ProgramData\\Anaconda3\\lib\\site-packages\\ipykernel_launcher.py:7: FutureWarning: `rcond` parameter will change to the default of machine precision times ``max(M, N)`` where M and N are the input matrix dimensions.\n",
      "To use the future default and silence this warning we advise to pass `rcond=None`, to keep using the old, explicitly pass `rcond=-1`.\n",
      "  import sys\n"
     ]
    },
    {
     "name": "stdout",
     "output_type": "stream",
     "text": [
      "w2= [63.54320988 -9.96296296  0.49382716]\n"
     ]
    },
    {
     "data": {
      "image/png": "[encoded data removed]",
      "text/plain": [
       "<Figure size 720x576 with 1 Axes>"
      ]
     },
     "metadata": {
      "needs_background": "light"
     },
     "output_type": "display_data"
    }
   ],
   "source": [
    "df2 = df[1:] # iskljucujemo prvu tacku koja deluje kao \"outlier\"\n",
    "\n",
    "A=np.array(df2['birth_rate'])\n",
    "A=np.array([np.ones(len(A)),A,A**2])\n",
    "y=np.array(df2['death_rate'])\n",
    "\n",
    "w2 = np.linalg.lstsq(A.T,y)[0] \n",
    "print('w2=',w2)\n",
    "def f2(x,w):\n",
    "    return w[0]+w[1]*x+w[2]*x**2\n",
    "\n",
    "ax=df2.plot(kind='scatter',s=1,x='birth_rate',y='death_rate',figsize=[10,8])\n",
    "x0,x1=plt.xlim()\n",
    "\n",
    "opseg=x1-x0\n",
    "X=np.arange(x0,x1,opseg/100.)\n",
    "ax.plot(X,f2(X,w2),'k')\n",
    "plt.show()"
   ]
  },
  {
   "cell_type": "code",
   "execution_count": 336,
   "metadata": {},
   "outputs": [
    {
     "data": {
      "text/html": [
       "<div>\n",
       "<style scoped>\n",
       "    .dataframe tbody tr th:only-of-type {\n",
       "        vertical-align: middle;\n",
       "    }\n",
       "\n",
       "    .dataframe tbody tr th {\n",
       "        vertical-align: top;\n",
       "    }\n",
       "\n",
       "    .dataframe thead th {\n",
       "        text-align: right;\n",
       "    }\n",
       "</style>\n",
       "<table border=\"1\" class=\"dataframe\">\n",
       "  <thead>\n",
       "    <tr style=\"text-align: right;\">\n",
       "      <th></th>\n",
       "      <th>region</th>\n",
       "      <th>birth_rate</th>\n",
       "      <th>death_rate</th>\n",
       "    </tr>\n",
       "  </thead>\n",
       "  <tbody>\n",
       "    <tr>\n",
       "      <td>0</td>\n",
       "      <td>3</td>\n",
       "      <td>9</td>\n",
       "      <td>4</td>\n",
       "    </tr>\n",
       "    <tr>\n",
       "      <td>1</td>\n",
       "      <td>5</td>\n",
       "      <td>10</td>\n",
       "      <td>5</td>\n",
       "    </tr>\n",
       "    <tr>\n",
       "      <td>2</td>\n",
       "      <td>7</td>\n",
       "      <td>11</td>\n",
       "      <td>6</td>\n",
       "    </tr>\n",
       "    <tr>\n",
       "      <td>3</td>\n",
       "      <td>9</td>\n",
       "      <td>12</td>\n",
       "      <td>7</td>\n",
       "    </tr>\n",
       "    <tr>\n",
       "      <td>4</td>\n",
       "      <td>11</td>\n",
       "      <td>9</td>\n",
       "      <td>8</td>\n",
       "    </tr>\n",
       "  </tbody>\n",
       "</table>\n",
       "</div>"
      ],
      "text/plain": [
       "   region  birth_rate  death_rate\n",
       "0       3           9           4\n",
       "1       5          10           5\n",
       "2       7          11           6\n",
       "3       9          12           7\n",
       "4      11           9           8"
      ]
     },
     "execution_count": 336,
     "metadata": {},
     "output_type": "execute_result"
    }
   ],
   "source": [
    "# Visestruka regresija\n",
    "\n",
    "import numpy as np\n",
    "import pandas as pd\n",
    "import matplotlib.pyplot as plt\n",
    "import statsmodels.formula.api as sm\n",
    "from scipy import stats\n",
    "from statsmodels.formula.api import ols\n",
    "\n",
    "atributi = ['birth_rate', 'death_rate', 'region']\n",
    "df=pd.read_csv('russian_demography(2).csv',usecols=atributi)\n",
    "df.head()"
   ]
  },
  {
   "cell_type": "code",
   "execution_count": 337,
   "metadata": {},
   "outputs": [
    {
     "name": "stdout",
     "output_type": "stream",
     "text": [
      "                            OLS Regression Results                            \n",
      "==============================================================================\n",
      "Dep. Variable:             birth_rate   R-squared:                       0.038\n",
      "Model:                            OLS   Adj. R-squared:                 -0.016\n",
      "Method:                 Least Squares   F-statistic:                    0.7031\n",
      "Date:                Fri, 24 Jan 2020   Prob (F-statistic):              0.413\n",
      "Time:                        18:52:54   Log-Likelihood:                -30.227\n",
      "No. Observations:                  20   AIC:                             64.45\n",
      "Df Residuals:                      18   BIC:                             66.45\n",
      "Df Model:                           1                                         \n",
      "Covariance Type:            nonrobust                                         \n",
      "==============================================================================\n",
      "                 coef    std err          t      P>|t|      [0.025      0.975]\n",
      "------------------------------------------------------------------------------\n",
      "Intercept     10.0865      0.557     18.114      0.000       8.917      11.256\n",
      "region         0.0188      0.022      0.839      0.413      -0.028       0.066\n",
      "==============================================================================\n",
      "Omnibus:                        3.568   Durbin-Watson:                   2.111\n",
      "Prob(Omnibus):                  0.168   Jarque-Bera (JB):                1.326\n",
      "Skew:                           0.000   Prob(JB):                        0.515\n",
      "Kurtosis:                       1.738   Cond. No.                         53.6\n",
      "==============================================================================\n",
      "\n",
      "Warnings:\n",
      "[1] Standard Errors assume that the covariance matrix of the errors is correctly specified.\n"
     ]
    }
   ],
   "source": [
    "model1 = ols(\"birth_rate ~ region\", df).fit() \n",
    "print(model1.summary())"
   ]
  },
  {
   "cell_type": "code",
   "execution_count": 338,
   "metadata": {},
   "outputs": [
    {
     "name": "stdout",
     "output_type": "stream",
     "text": [
      "                            OLS Regression Results                            \n",
      "==============================================================================\n",
      "Dep. Variable:             birth_rate   R-squared:                       0.038\n",
      "Model:                            OLS   Adj. R-squared:                 -0.016\n",
      "Method:                 Least Squares   F-statistic:                    0.7031\n",
      "Date:                Fri, 24 Jan 2020   Prob (F-statistic):              0.413\n",
      "Time:                        18:53:10   Log-Likelihood:                -30.227\n",
      "No. Observations:                  20   AIC:                             64.45\n",
      "Df Residuals:                      18   BIC:                             66.45\n",
      "Df Model:                           1                                         \n",
      "Covariance Type:            nonrobust                                         \n",
      "==============================================================================\n",
      "                 coef    std err          t      P>|t|      [0.025      0.975]\n",
      "------------------------------------------------------------------------------\n",
      "Intercept      1.6779      0.096     17.455      0.000       1.476       1.880\n",
      "region        -1.6629      0.112    -14.788      0.000      -1.899      -1.427\n",
      "death_rate     3.3634      0.184     18.251      0.000       2.976       3.751\n",
      "==============================================================================\n",
      "Omnibus:                        3.568   Durbin-Watson:                   2.111\n",
      "Prob(Omnibus):                  0.168   Jarque-Bera (JB):                1.326\n",
      "Skew:                          -0.000   Prob(JB):                        0.515\n",
      "Kurtosis:                       1.738   Cond. No.                     2.15e+16\n",
      "==============================================================================\n",
      "\n",
      "Warnings:\n",
      "[1] Standard Errors assume that the covariance matrix of the errors is correctly specified.\n",
      "[2] The smallest eigenvalue is 3.6e-29. This might indicate that there are\n",
      "strong multicollinearity problems or that the design matrix is singular.\n"
     ]
    }
   ],
   "source": [
    "model2 = ols(\"birth_rate ~ region + death_rate\", df).fit() # zavisnost od dva faktora\n",
    "print(model2.summary())"
   ]
  },
  {
   "cell_type": "code",
   "execution_count": 339,
   "metadata": {},
   "outputs": [
    {
     "name": "stdout",
     "output_type": "stream",
     "text": [
      "                            OLS Regression Results                            \n",
      "==============================================================================\n",
      "Dep. Variable:             birth_rate   R-squared:                       0.038\n",
      "Model:                            OLS   Adj. R-squared:                 -0.076\n",
      "Method:                 Least Squares   F-statistic:                    0.3320\n",
      "Date:                Fri, 24 Jan 2020   Prob (F-statistic):              0.722\n",
      "Time:                        18:53:24   Log-Likelihood:                -30.227\n",
      "No. Observations:                  20   AIC:                             66.45\n",
      "Df Residuals:                      17   BIC:                             69.44\n",
      "Df Model:                           2                                         \n",
      "Covariance Type:            nonrobust                                         \n",
      "=====================================================================================\n",
      "                        coef    std err          t      P>|t|      [0.025      0.975]\n",
      "-------------------------------------------------------------------------------------\n",
      "Intercept             1.6779      0.179      9.354      0.000       1.299       2.056\n",
      "region               -1.6629      0.264     -6.292      0.000      -2.221      -1.105\n",
      "death_rate            3.3634      0.318     10.576      0.000       2.692       4.034\n",
      "region:death_rate   3.22e-16      0.004   7.17e-14      1.000      -0.009       0.009\n",
      "==============================================================================\n",
      "Omnibus:                        3.568   Durbin-Watson:                   2.111\n",
      "Prob(Omnibus):                  0.168   Jarque-Bera (JB):                1.326\n",
      "Skew:                           0.000   Prob(JB):                        0.515\n",
      "Kurtosis:                       1.738   Cond. No.                     3.98e+17\n",
      "==============================================================================\n",
      "\n",
      "Warnings:\n",
      "[1] Standard Errors assume that the covariance matrix of the errors is correctly specified.\n",
      "[2] The smallest eigenvalue is 2.72e-29. This might indicate that there are\n",
      "strong multicollinearity problems or that the design matrix is singular.\n"
     ]
    }
   ],
   "source": [
    "model3 = ols(\"birth_rate ~ region * death_rate\", df).fit() # dva faktora + njihova interakcija (proizvod)\n",
    "print(model3.summary())"
   ]
  },
  {
   "cell_type": "code",
   "execution_count": 340,
   "metadata": {},
   "outputs": [
    {
     "data": {
      "text/plain": [
       "(2380, 1)"
      ]
     },
     "execution_count": 340,
     "metadata": {},
     "output_type": "execute_result"
    }
   ],
   "source": [
    "# Estimacija srednje vrednosti iz uzorka\n",
    "import pandas as pd\n",
    "import matplotlib.pyplot as plt\n",
    "import numpy as np\n",
    "\n",
    "atributi = ['birth_rate'] \n",
    "df = pd.read_csv(\"russian_demography.csv\",usecols=atributi)\n",
    "df.head()\n",
    "df.shape"
   ]
  },
  {
   "cell_type": "code",
   "execution_count": 341,
   "metadata": {},
   "outputs": [
    {
     "name": "stderr",
     "output_type": "stream",
     "text": [
      "D:\\ProgramData\\Anaconda3\\lib\\site-packages\\pandas\\plotting\\_matplotlib\\hist.py:412: MatplotlibDeprecationWarning: \n",
      "The 'normed' kwarg was deprecated in Matplotlib 2.1 and will be removed in 3.1. Use 'density' instead.\n",
      "  ax.hist(data[col].dropna().values, bins=bins, **kwds)\n"
     ]
    },
    {
     "data": {
      "image/png": "[encoded data removed]",
      "text/plain": [
       "<Figure size 748.8x514.8 with 1 Axes>"
      ]
     },
     "metadata": {
      "needs_background": "light"
     },
     "output_type": "display_data"
    }
   ],
   "source": [
    "#histogram\n",
    "hist = df.hist(normed=True,bins=100) \n",
    "plt.show()"
   ]
  },
  {
   "cell_type": "code",
   "execution_count": 342,
   "metadata": {},
   "outputs": [
    {
     "data": {
      "text/html": [
       "<div>\n",
       "<style scoped>\n",
       "    .dataframe tbody tr th:only-of-type {\n",
       "        vertical-align: middle;\n",
       "    }\n",
       "\n",
       "    .dataframe tbody tr th {\n",
       "        vertical-align: top;\n",
       "    }\n",
       "\n",
       "    .dataframe thead th {\n",
       "        text-align: right;\n",
       "    }\n",
       "</style>\n",
       "<table border=\"1\" class=\"dataframe\">\n",
       "  <thead>\n",
       "    <tr style=\"text-align: right;\">\n",
       "      <th></th>\n",
       "      <th>birth_rate</th>\n",
       "    </tr>\n",
       "  </thead>\n",
       "  <tbody>\n",
       "    <tr>\n",
       "      <td>count</td>\n",
       "      <td>2317.000000</td>\n",
       "    </tr>\n",
       "    <tr>\n",
       "      <td>mean</td>\n",
       "      <td>11.549245</td>\n",
       "    </tr>\n",
       "    <tr>\n",
       "      <td>std</td>\n",
       "      <td>3.233035</td>\n",
       "    </tr>\n",
       "    <tr>\n",
       "      <td>min</td>\n",
       "      <td>6.200000</td>\n",
       "    </tr>\n",
       "    <tr>\n",
       "      <td>25%</td>\n",
       "      <td>9.300000</td>\n",
       "    </tr>\n",
       "    <tr>\n",
       "      <td>50%</td>\n",
       "      <td>11.000000</td>\n",
       "    </tr>\n",
       "    <tr>\n",
       "      <td>75%</td>\n",
       "      <td>13.000000</td>\n",
       "    </tr>\n",
       "    <tr>\n",
       "      <td>max</td>\n",
       "      <td>29.900000</td>\n",
       "    </tr>\n",
       "  </tbody>\n",
       "</table>\n",
       "</div>"
      ],
      "text/plain": [
       "        birth_rate\n",
       "count  2317.000000\n",
       "mean     11.549245\n",
       "std       3.233035\n",
       "min       6.200000\n",
       "25%       9.300000\n",
       "50%      11.000000\n",
       "75%      13.000000\n",
       "max      29.900000"
      ]
     },
     "execution_count": 342,
     "metadata": {},
     "output_type": "execute_result"
    }
   ],
   "source": [
    "df.describe()"
   ]
  },
  {
   "cell_type": "code",
   "execution_count": 343,
   "metadata": {},
   "outputs": [
    {
     "data": {
      "text/plain": [
       "11.690000000000001"
      ]
     },
     "execution_count": 343,
     "metadata": {},
     "output_type": "execute_result"
    }
   ],
   "source": [
    "uzorak=df.sample(10)\n",
    "uzorak.values.mean()"
   ]
  },
  {
   "cell_type": "code",
   "execution_count": 344,
   "metadata": {},
   "outputs": [
    {
     "data": {
      "image/png": "[encoded data removed]",
      "text/plain": [
       "<Figure size 748.8x514.8 with 1 Axes>"
      ]
     },
     "metadata": {
      "needs_background": "light"
     },
     "output_type": "display_data"
    },
    {
     "data": {
      "image/png": "[encoded data removed]",
      "text/plain": [
       "<Figure size 748.8x514.8 with 1 Axes>"
      ]
     },
     "metadata": {
      "needs_background": "light"
     },
     "output_type": "display_data"
    }
   ],
   "source": [
    "# estimiramo srednju vrednost uzimajući samo manji uzorak iz celog:\n",
    "estimatori_srednje_vrednosti = []       \n",
    "broj_uz_as=50\n",
    "velicina_uzorka=100\n",
    "broj_estimacija_srednjih_vrednosti=20   \n",
    "for x in range(velicina_uzorka):         \n",
    "    uzorak=df.sample(velicina_uzorka)\n",
    "    estimatori_srednje_vrednosti.append( uzorak.values.mean() )\n",
    "    \n",
    "# plotujemo estimaciju gustine verovatnoće raspodele srednjih vrednosti (pomoću histograma) - vidimo da je približno normalna!  \n",
    "pd.DataFrame(estimatori_srednje_vrednosti).plot(kind=\"density\")   \n",
    "\n",
    "# histogram srednjih vrednosti:\n",
    "hist = pd.DataFrame(estimatori_srednje_vrednosti).hist(normed=True,bins=30) \n",
    "plt.show()"
   ]
  },
  {
   "cell_type": "code",
   "execution_count": 348,
   "metadata": {},
   "outputs": [
    {
     "name": "stdout",
     "output_type": "stream",
     "text": [
      "nan\n",
      "(nan, nan)\n"
     ]
    }
   ],
   "source": [
    "# interval poverenja za ocenu srednje vrednosti:\n",
    "\n",
    "std=df.std()['birth_rate']\n",
    "alpha=0.05    # nivo poverenja je 1-alpha=0.95\n",
    "\n",
    "print(estimatori_srednje_vrednosti[0])  # štampamo estimranu vrednost\n",
    "\n",
    "red_kvantila=1-alpha/2\n",
    "Kvantil = stats.norm.ppf(red_kvantila)  \n",
    "                  \n",
    "margina = Kvantil * (std/velicina_uzorka**0.5)\n",
    "\n",
    "interval_poverenja = (estimatori_srednje_vrednosti[0] - margina, estimatori_srednje_vrednosti[0] + margina)  \n",
    "print(interval_poverenja)"
   ]
  },
  {
   "cell_type": "code",
   "execution_count": 349,
   "metadata": {},
   "outputs": [
    {
     "data": {
      "image/png": "[encoded data removed]",
      "text/plain": [
       "<Figure size 648x648 with 1 Axes>"
      ]
     },
     "metadata": {
      "needs_background": "light"
     },
     "output_type": "display_data"
    }
   ],
   "source": [
    "# crtanje svih intervala poverenja:\n",
    "\n",
    "intervali_poverenja=[]\n",
    "for i in range(0,50):\n",
    "    intervali_poverenja.append((estimatori_srednje_vrednosti[i] - margina, estimatori_srednje_vrednosti[i] + margina))\n",
    "    \n",
    "# crtanje intervala poverenja:\n",
    "\n",
    "plt.figure(figsize=(9,9))\n",
    "\n",
    "# crtamo intervale pomoću plt.errorbar:\n",
    "plt.errorbar(x=np.arange(0, 50), \n",
    "             y=estimatori_srednje_vrednosti[0:50], \n",
    "             yerr=[(gornja-donja)/2 for gornja,donja in intervali_poverenja],\n",
    "             fmt='o')\n",
    "\n",
    "\n",
    "plt.hlines(xmin=0, xmax=broj_uz_as,\n",
    "           y=df.mean()['birth_rate'], \n",
    "           linewidth=2.0,\n",
    "           color=\"red\")\n",
    "\n",
    "plt.show()"
   ]
  },
  {
   "cell_type": "code",
   "execution_count": 350,
   "metadata": {},
   "outputs": [
    {
     "data": {
      "image/png": "[encoded data removed]",
      "text/plain": [
       "<Figure size 748.8x514.8 with 1 Axes>"
      ]
     },
     "metadata": {
      "needs_background": "light"
     },
     "output_type": "display_data"
    },
    {
     "data": {
      "image/png": "[encoded data removed]",
      "text/plain": [
       "<Figure size 748.8x514.8 with 1 Axes>"
      ]
     },
     "metadata": {
      "needs_background": "light"
     },
     "output_type": "display_data"
    }
   ],
   "source": [
    "estimatori_varijanse = []       \n",
    "broj_uz_as=50\n",
    "velicina_uzorka=100\n",
    "broj_estimacija_varijansi=20   \n",
    "for x in range(broj_estimacija_varijansi):         \n",
    "    \n",
    "    uzorak=df.sample(velicina_uzorka)\n",
    "    estimatori_varijanse.append( uzorak.var()['birth_rate'] )\n",
    "\n",
    "    \n",
    "# plotujemo estimaciju gustine verovatnoće raspodele ocena varijansi (pomocu histograma) - vidimo da je približno normalna!  \n",
    "pd.DataFrame(estimatori_varijanse).plot(kind=\"density\")   \n",
    "\n",
    "# histogram ocena varijansi:\n",
    "hist = pd.DataFrame(estimatori_varijanse).hist(normed=True,bins=20) \n",
    "plt.show()"
   ]
  },
  {
   "cell_type": "code",
   "execution_count": 351,
   "metadata": {},
   "outputs": [
    {
     "name": "stdout",
     "output_type": "stream",
     "text": [
      "5.494467353951889\n",
      "(4.235663018346566, 7.414725446011988)\n"
     ]
    }
   ],
   "source": [
    "# intervali poverenja:\n",
    "\n",
    "alpha=0.05   # nivo poverenja je 1-alpha=0.95\n",
    "\n",
    "print(estimatori_varijanse[0])  # štampamo estimiranu vrednost\n",
    "\n",
    "\n",
    "Kvantil1 = stats.chi2.ppf(1-alpha/2, df=velicina_uzorka-1)  # Kvantil odgovarajućeg reda hi kvadrat raspodele sa n-1 stepeni slobode\n",
    "Kvantil2 = stats.chi2.ppf(alpha/2, df=velicina_uzorka-1)  # Kvantil odgovarajućeg reda hi kvadrat raspodele sa n-1 stepeni slobode\n",
    "   \n",
    "\n",
    "interval_poverenja = ((velicina_uzorka-1)*estimatori_varijanse[0]/Kvantil1, (velicina_uzorka-1)*estimatori_varijanse[0]/Kvantil2)  \n",
    "print(interval_poverenja)\n"
   ]
  },
  {
   "cell_type": "code",
   "execution_count": 352,
   "metadata": {},
   "outputs": [
    {
     "data": {
      "image/png": "[encoded data removed]",
      "text/plain": [
       "<Figure size 648x648 with 1 Axes>"
      ]
     },
     "metadata": {
      "needs_background": "light"
     },
     "output_type": "display_data"
    }
   ],
   "source": [
    "#crtanje svih intervala poverenja\n",
    "intervali_poverenja=[]\n",
    "for i in range(0,broj_estimacija_varijansi):\n",
    "    intervali_poverenja.append(((velicina_uzorka-1)*estimatori_varijanse[i]/Kvantil1, (velicina_uzorka-1)*estimatori_varijanse[i]/Kvantil2))\n",
    "    \n",
    "# crtanje intervala poverenja:\n",
    "\n",
    "plt.figure(figsize=(9,9))\n",
    "\n",
    "# crtamo intervale pomoću plt.errorbar:\n",
    "plt.errorbar(x=np.arange(0, broj_estimacija_varijansi), \n",
    "             y=estimatori_varijanse[0:broj_estimacija_varijansi], \n",
    "             yerr=np.stack((estimatori_varijanse-np.array(intervali_poverenja)[:,0], np.array(intervali_poverenja)[:,1]-estimatori_varijanse)),\n",
    "             fmt='o')\n",
    "\n",
    "plt.hlines(xmin=0, xmax=broj_estimacija_varijansi,\n",
    "           y=df.var()['birth_rate'], \n",
    "           linewidth=2.0,\n",
    "           color=\"red\")\n",
    "\n",
    "plt.show()"
   ]
  },
  {
   "cell_type": "code",
   "execution_count": 353,
   "metadata": {},
   "outputs": [
    {
     "data": {
      "text/html": [
       "<div>\n",
       "<style scoped>\n",
       "    .dataframe tbody tr th:only-of-type {\n",
       "        vertical-align: middle;\n",
       "    }\n",
       "\n",
       "    .dataframe tbody tr th {\n",
       "        vertical-align: top;\n",
       "    }\n",
       "\n",
       "    .dataframe thead th {\n",
       "        text-align: right;\n",
       "    }\n",
       "</style>\n",
       "<table border=\"1\" class=\"dataframe\">\n",
       "  <thead>\n",
       "    <tr style=\"text-align: right;\">\n",
       "      <th></th>\n",
       "      <th>birth_rate</th>\n",
       "      <th>death_rate</th>\n",
       "    </tr>\n",
       "  </thead>\n",
       "  <tbody>\n",
       "    <tr>\n",
       "      <td>0</td>\n",
       "      <td>14.2</td>\n",
       "      <td>12.3</td>\n",
       "    </tr>\n",
       "    <tr>\n",
       "      <td>1</td>\n",
       "      <td>12.9</td>\n",
       "      <td>11.1</td>\n",
       "    </tr>\n",
       "    <tr>\n",
       "      <td>2</td>\n",
       "      <td>16.2</td>\n",
       "      <td>8.6</td>\n",
       "    </tr>\n",
       "    <tr>\n",
       "      <td>3</td>\n",
       "      <td>13.5</td>\n",
       "      <td>9.8</td>\n",
       "    </tr>\n",
       "    <tr>\n",
       "      <td>4</td>\n",
       "      <td>15.1</td>\n",
       "      <td>10.4</td>\n",
       "    </tr>\n",
       "  </tbody>\n",
       "</table>\n",
       "</div>"
      ],
      "text/plain": [
       "   birth_rate  death_rate\n",
       "0        14.2        12.3\n",
       "1        12.9        11.1\n",
       "2        16.2         8.6\n",
       "3        13.5         9.8\n",
       "4        15.1        10.4"
      ]
     },
     "execution_count": 353,
     "metadata": {},
     "output_type": "execute_result"
    }
   ],
   "source": [
    "#veza izmedju birth_rate i death_rate\n",
    "plt.style.use('seaborn-talk')\n",
    "atributi = ['birth_rate', 'death_rate']\n",
    "data_por = pd.read_csv(\"russian_demography.csv\",usecols=atributi)\n",
    "data_por.head()"
   ]
  },
  {
   "cell_type": "code",
   "execution_count": 354,
   "metadata": {},
   "outputs": [
    {
     "data": {
      "text/html": [
       "<div>\n",
       "<style scoped>\n",
       "    .dataframe tbody tr th:only-of-type {\n",
       "        vertical-align: middle;\n",
       "    }\n",
       "\n",
       "    .dataframe tbody tr th {\n",
       "        vertical-align: top;\n",
       "    }\n",
       "\n",
       "    .dataframe thead th {\n",
       "        text-align: right;\n",
       "    }\n",
       "</style>\n",
       "<table border=\"1\" class=\"dataframe\">\n",
       "  <thead>\n",
       "    <tr style=\"text-align: right;\">\n",
       "      <th></th>\n",
       "      <th>birth_rate</th>\n",
       "      <th>death_rate</th>\n",
       "    </tr>\n",
       "  </thead>\n",
       "  <tbody>\n",
       "    <tr>\n",
       "      <td>birth_rate</td>\n",
       "      <td>1.000000</td>\n",
       "      <td>-0.618059</td>\n",
       "    </tr>\n",
       "    <tr>\n",
       "      <td>death_rate</td>\n",
       "      <td>-0.618059</td>\n",
       "      <td>1.000000</td>\n",
       "    </tr>\n",
       "  </tbody>\n",
       "</table>\n",
       "</div>"
      ],
      "text/plain": [
       "            birth_rate  death_rate\n",
       "birth_rate    1.000000   -0.618059\n",
       "death_rate   -0.618059    1.000000"
      ]
     },
     "execution_count": 354,
     "metadata": {},
     "output_type": "execute_result"
    }
   ],
   "source": [
    "data_por.corr()"
   ]
  },
  {
   "cell_type": "code",
   "execution_count": 357,
   "metadata": {},
   "outputs": [
    {
     "data": {
      "image/png": "[encoded data removed]",
      "text/plain": [
       "<Figure size 748.8x514.8 with 1 Axes>"
      ]
     },
     "metadata": {
      "needs_background": "light"
     },
     "output_type": "display_data"
    }
   ],
   "source": [
    "import numpy as np\n",
    "import pandas as pd\n",
    "import matplotlib.pyplot as plt\n",
    "import statsmodels.formula.api as sm\n",
    "from scipy import stats\n",
    "\n",
    "\n",
    "# Ućitavanje podataka:\n",
    "df=pd.read_csv('russian_demography(2).csv')\n",
    "\n",
    "# plotovanje\n",
    "df.plot('birth_rate', 'death_rate', style='o')\n",
    "\n",
    "plt.xlim([1,25])\n",
    "plt.ylim([1,25])\n",
    "plt.show()"
   ]
  },
  {
   "cell_type": "code",
   "execution_count": 358,
   "metadata": {},
   "outputs": [
    {
     "data": {
      "image/png": "[encoded data removed]",
      "text/plain": [
       "<Figure size 748.8x514.8 with 1 Axes>"
      ]
     },
     "metadata": {
      "needs_background": "light"
     },
     "output_type": "display_data"
    }
   ],
   "source": [
    "Rez1= sm.ols('birth_rate ~ death_rate', df).fit()\n",
    "Rez2 = sm.ols('birth_rate ~ death_rate', df[:-1]).fit()  # isključujemo poslednju tačku koja deluje kao \"outlier\"\n",
    "df.plot('birth_rate', 'death_rate', style='o')\n",
    "plt.plot(df.birth_rate, Rez1.fittedvalues)\n",
    "plt.plot(df.birth_rate[:-1], Rez2.fittedvalues)\n",
    "plt.xlim([1,25])\n",
    "plt.ylim([1,25])\n",
    "plt.show()"
   ]
  },
  {
   "cell_type": "code",
   "execution_count": 359,
   "metadata": {},
   "outputs": [
    {
     "name": "stdout",
     "output_type": "stream",
     "text": [
      "                            OLS Regression Results                            \n",
      "==============================================================================\n",
      "Dep. Variable:             birth_rate   R-squared:                       0.038\n",
      "Model:                            OLS   Adj. R-squared:                 -0.016\n",
      "Method:                 Least Squares   F-statistic:                    0.7031\n",
      "Date:                Fri, 24 Jan 2020   Prob (F-statistic):              0.413\n",
      "Time:                        19:10:04   Log-Likelihood:                -30.227\n",
      "No. Observations:                  20   AIC:                             64.45\n",
      "Df Residuals:                      18   BIC:                             66.45\n",
      "Df Model:                           1                                         \n",
      "Covariance Type:            nonrobust                                         \n",
      "==============================================================================\n",
      "                 coef    std err          t      P>|t|      [0.025      0.975]\n",
      "------------------------------------------------------------------------------\n",
      "Intercept      9.9925      0.658     15.183      0.000       8.610      11.375\n",
      "death_rate     0.0376      0.045      0.839      0.413      -0.057       0.132\n",
      "==============================================================================\n",
      "Omnibus:                        3.568   Durbin-Watson:                   2.111\n",
      "Prob(Omnibus):                  0.168   Jarque-Bera (JB):                1.326\n",
      "Skew:                          -0.000   Prob(JB):                        0.515\n",
      "Kurtosis:                       1.738   Cond. No.                         37.5\n",
      "==============================================================================\n",
      "\n",
      "Warnings:\n",
      "[1] Standard Errors assume that the covariance matrix of the errors is correctly specified.\n",
      "                            OLS Regression Results                            \n",
      "==============================================================================\n",
      "Dep. Variable:             birth_rate   R-squared:                       0.008\n",
      "Model:                            OLS   Adj. R-squared:                 -0.051\n",
      "Method:                 Least Squares   F-statistic:                    0.1328\n",
      "Date:                Fri, 24 Jan 2020   Prob (F-statistic):              0.720\n",
      "Time:                        19:10:04   Log-Likelihood:                -28.548\n",
      "No. Observations:                  19   AIC:                             61.10\n",
      "Df Residuals:                      17   BIC:                             62.98\n",
      "Df Model:                           1                                         \n",
      "Covariance Type:            nonrobust                                         \n",
      "==============================================================================\n",
      "                 coef    std err          t      P>|t|      [0.025      0.975]\n",
      "------------------------------------------------------------------------------\n",
      "Intercept     10.1930      0.679     15.010      0.000       8.760      11.626\n",
      "death_rate     0.0175      0.048      0.364      0.720      -0.084       0.119\n",
      "==============================================================================\n",
      "Omnibus:                        3.393   Durbin-Watson:                   2.224\n",
      "Prob(Omnibus):                  0.183   Jarque-Bera (JB):                1.299\n",
      "Skew:                           0.097   Prob(JB):                        0.522\n",
      "Kurtosis:                       1.734   Cond. No.                         36.5\n",
      "==============================================================================\n",
      "\n",
      "Warnings:\n",
      "[1] Standard Errors assume that the covariance matrix of the errors is correctly specified.\n"
     ]
    },
    {
     "name": "stderr",
     "output_type": "stream",
     "text": [
      "D:\\ProgramData\\Anaconda3\\lib\\site-packages\\scipy\\stats\\stats.py:1450: UserWarning: kurtosistest only valid for n>=20 ... continuing anyway, n=19\n",
      "  \"anyway, n=%i\" % int(n))\n"
     ]
    }
   ],
   "source": [
    "# Rezime regresije:\n",
    "print(Rez1.summary())\n",
    "print(Rez2.summary())"
   ]
  },
  {
   "cell_type": "code",
   "execution_count": null,
   "metadata": {},
   "outputs": [],
   "source": []
  }
 ],
 "metadata": {
  "kernelspec": {
   "display_name": "Python 3",
   "language": "python",
   "name": "python3"
  },
  "language_info": {
   "codemirror_mode": {
    "name": "ipython",
    "version": 3
   },
   "file_extension": ".py",
   "mimetype": "text/x-python",
   "name": "python",
   "nbconvert_exporter": "python",
   "pygments_lexer": "ipython3",
   "version": "3.7.4"
  }
 },
 "nbformat": 4,
 "nbformat_minor": 2
}
